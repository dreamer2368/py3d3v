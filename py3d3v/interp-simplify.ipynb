{
 "metadata": {
  "name": "",
  "signature": "sha256:a6b73068a6c35c298c1be13ecd511dfc17c11a21ed7641b175380d99357fae41"
 },
 "nbformat": 3,
 "nbformat_minor": 0,
 "worksheets": [
  {
   "cells": [
    {
     "cell_type": "code",
     "collapsed": false,
     "input": [
      "%matplotlib inline"
     ],
     "language": "python",
     "metadata": {},
     "outputs": [],
     "prompt_number": 1
    },
    {
     "cell_type": "code",
     "collapsed": false,
     "input": [
      "import numpy as np\n",
      "import sympy as sym\n",
      "from sympy.abc import x\n",
      "sym.init_printing()"
     ],
     "language": "python",
     "metadata": {},
     "outputs": [],
     "prompt_number": 2
    },
    {
     "cell_type": "code",
     "collapsed": false,
     "input": [
      "# P=3\n",
      "Wn1 = sym.factor((1-4*x+4*x**2)/8)\n",
      "Wp1 = sym.factor((1+4*x+4*x**2)/8)\n",
      "Wn1, Wp1"
     ],
     "language": "python",
     "metadata": {},
     "outputs": [
      {
       "latex": [
        "$$\\left ( \\frac{1}{8} \\left(2 x - 1\\right)^{2}, \\quad \\frac{1}{8} \\left(2 x + 1\\right)^{2}\\right )$$"
       ],
       "metadata": {},
       "output_type": "pyout",
       "png": "[encoded data removed]",
       "prompt_number": 3,
       "text": [
        "\u239b         2           2\u239e\n",
        "\u239c(2\u22c5x - 1)   (2\u22c5x + 1) \u239f\n",
        "\u239c\u2500\u2500\u2500\u2500\u2500\u2500\u2500\u2500\u2500\u2500, \u2500\u2500\u2500\u2500\u2500\u2500\u2500\u2500\u2500\u2500\u239f\n",
        "\u239d    8           8     \u23a0"
       ]
      }
     ],
     "prompt_number": 3
    },
    {
     "cell_type": "code",
     "collapsed": false,
     "input": [
      "# P=4\n",
      "W0 = sym.factor((1-6*x+12*x**2-8*x**3)/48)\n",
      "W1 = sym.factor((23-30*x-12*x**2+24*x**3)/48)\n",
      "W2 = sym.factor((23+30*x-12*x**2-24*x**3)/48)\n",
      "W0, W1, W2"
     ],
     "language": "python",
     "metadata": {},
     "outputs": [
      {
       "latex": [
        "$$\\left ( - \\frac{1}{48} \\left(2 x - 1\\right)^{3}, \\quad \\frac{1}{48} \\left(24 x^{3} - 12 x^{2} - 30 x + 23\\right), \\quad - \\frac{1}{48} \\left(24 x^{3} + 12 x^{2} - 30 x - 23\\right)\\right )$$"
       ],
       "metadata": {},
       "output_type": "pyout",
       "png": "[encoded data removed]",
       "prompt_number": 4,
       "text": [
        "\u239b          3       3       2               \u239b    3       2            \u239e \u239e\n",
        "\u239c-(2\u22c5x - 1)    24\u22c5x  - 12\u22c5x  - 30\u22c5x + 23  -\u239d24\u22c5x  + 12\u22c5x  - 30\u22c5x - 23\u23a0 \u239f\n",
        "\u239c\u2500\u2500\u2500\u2500\u2500\u2500\u2500\u2500\u2500\u2500\u2500\u2500, \u2500\u2500\u2500\u2500\u2500\u2500\u2500\u2500\u2500\u2500\u2500\u2500\u2500\u2500\u2500\u2500\u2500\u2500\u2500\u2500\u2500\u2500\u2500\u2500\u2500, \u2500\u2500\u2500\u2500\u2500\u2500\u2500\u2500\u2500\u2500\u2500\u2500\u2500\u2500\u2500\u2500\u2500\u2500\u2500\u2500\u2500\u2500\u2500\u2500\u2500\u2500\u2500\u2500\u2500\u239f\n",
        "\u239d     48                   48                           48             \u23a0"
       ]
      }
     ],
     "prompt_number": 4
    },
    {
     "cell_type": "code",
     "collapsed": false,
     "input": [],
     "language": "python",
     "metadata": {},
     "outputs": [],
     "prompt_number": 4
    }
   ],
   "metadata": {}
  }
 ]
}