{
 "metadata": {
  "name": "",
  "signature": "sha256:c9df799b9dd0810c30bd8157d65cce5f256059a334c83c21907bc0bc058f0521"
 },
 "nbformat": 3,
 "nbformat_minor": 0,
 "worksheets": [
  {
   "cells": [
    {
     "cell_type": "code",
     "collapsed": false,
     "input": [
      "%matplotlib inline\n",
      "%load_ext autoreload\n",
      "%autoreload 2"
     ],
     "language": "python",
     "metadata": {},
     "outputs": [],
     "prompt_number": 1
    },
    {
     "cell_type": "code",
     "collapsed": false,
     "input": [
      "import numpy as np\n",
      "import scipy as sp\n",
      "import scipy.stats\n",
      "import scipy.sparse as sps\n",
      "import scipy.sparse.linalg\n",
      "import pyamg\n",
      "import matplotlib.pyplot as plt\n",
      "from solvers import *\n",
      "from pic3d3v import *\n",
      "norm = np.linalg.norm"
     ],
     "language": "python",
     "metadata": {},
     "outputs": [],
     "prompt_number": 2
    },
    {
     "cell_type": "code",
     "collapsed": false,
     "input": [
      "# For a single particle\n",
      "L = 6*np.pi\n",
      "nz = 64\n",
      "ny = 64\n",
      "nx = 64\n",
      "dz, dy, dx = L/nz, L/ny, L/nx \n",
      "z_vals = np.linspace(0, L, nz+1)[:-1]\n",
      "y_vals = np.linspace(0, L, ny+1)[:-1]\n",
      "x_vals = np.linspace(0, L, nx+1)[:-1]\n",
      "\n",
      "rhos = np.zeros((nz, ny, nx))\n",
      "rhos[nz/2, ny/2, nx/2] = 1.\n",
      "z0, y0, x0 = z_vals[nz/2], y_vals[ny/2], x_vals[nx/2]\n",
      "\n",
      "\n",
      "beta = 5\n",
      "solver = Poisson3DFFT(nz, dz, ny, dy, nx, dx)\n",
      "phis = solver(rhos/(dz*dy*dx))\n",
      "\n",
      "solverlr = Poisson3DFFTLR(nz, dz, ny, dy, nx, dx, beta)\n",
      "phislr = solverlr(rhos/(dz*dy*dx))"
     ],
     "language": "python",
     "metadata": {},
     "outputs": [],
     "prompt_number": 3
    },
    {
     "cell_type": "markdown",
     "metadata": {},
     "source": [
      "$\\phi(k) = \\rho(k) exp(-k^2/(4\\beta^2))$"
     ]
    },
    {
     "cell_type": "code",
     "collapsed": false,
     "input": [
      "expected = (beta**3/np.pi**(3./2))*np.exp(-beta**2*(x_vals-L/2.)**2)\n",
      "#plt.plot(x_vals, expected)"
     ],
     "language": "python",
     "metadata": {},
     "outputs": [],
     "prompt_number": 4
    },
    {
     "cell_type": "code",
     "collapsed": false,
     "input": [
      "print np.max(expected)\n",
      "print (beta**3/(np.pi**(3./2)))"
     ],
     "language": "python",
     "metadata": {},
     "outputs": [
      {
       "output_type": "stream",
       "stream": "stdout",
       "text": [
        "22.4483902656\n",
        "22.4483902656\n"
       ]
      }
     ],
     "prompt_number": 5
    },
    {
     "cell_type": "code",
     "collapsed": false,
     "input": [
      "ffte = np.fft.rfft(expected)\n",
      "v = np.sqrt(np.real(ffte*ffte.conj()))\n",
      "plt.plot(np.fft.rfftfreq(len(expected)), v)"
     ],
     "language": "python",
     "metadata": {},
     "outputs": [
      {
       "metadata": {},
       "output_type": "pyout",
       "prompt_number": 6,
       "text": [
        "[<matplotlib.lines.Line2D at 0x7facd5a1bf90>]"
       ]
      },
      {
       "metadata": {},
       "output_type": "display_data",
       "png": "[encoded data removed]",
       "text": [
        "<matplotlib.figure.Figure at 0x7facd8574e50>"
       ]
      }
     ],
     "prompt_number": 6
    },
    {
     "cell_type": "code",
     "collapsed": false,
     "input": [
      "a = rhos[nz/2, ny/2, :]\n",
      "b = np.fft.fft(a/dx)\n",
      "freqs = np.fft.fftfreq(len(a))*2*np.pi/dx\n",
      "\n",
      "b = b*np.exp(-freqs/beta**2/4.)\n",
      "b[0] = 0\n",
      "c = np.real(np.fft.ifft(b))\n",
      "\n",
      "plt.plot(c)\n",
      "plt.plot((beta/np.pi**(1./2))*np.exp(-beta**2*(x_vals-L/2.)**2))"
     ],
     "language": "python",
     "metadata": {},
     "outputs": [
      {
       "metadata": {},
       "output_type": "pyout",
       "prompt_number": 7,
       "text": [
        "[<matplotlib.lines.Line2D at 0x7facd5a12910>]"
       ]
      },
      {
       "metadata": {},
       "output_type": "display_data",
       "png": "[encoded data removed]",
       "text": [
        "<matplotlib.figure.Figure at 0x7facd5a12690>"
       ]
      }
     ],
     "prompt_number": 7
    },
    {
     "cell_type": "code",
     "collapsed": false,
     "input": [
      "plt.plot(x_vals, phislr[nz/2, ny/2, :])\n",
      "plt.plot(x_vals, expected)"
     ],
     "language": "python",
     "metadata": {},
     "outputs": [
      {
       "metadata": {},
       "output_type": "pyout",
       "prompt_number": 8,
       "text": [
        "[<matplotlib.lines.Line2D at 0x7facd5a65d50>]"
       ]
      },
      {
       "metadata": {},
       "output_type": "display_data",
       "png": "[encoded data removed]",
       "text": [
        "<matplotlib.figure.Figure at 0x7facd5a65ad0>"
       ]
      }
     ],
     "prompt_number": 8
    },
    {
     "cell_type": "code",
     "collapsed": false,
     "input": [
      "# For two particles\n",
      "#L = 6*np.pi\n",
      "#nz = 64\n",
      "#ny = 64\n",
      "#nx = 64\n",
      "#dz, dy, dx = L/nz, L/ny, L/nx \n",
      "#z_vals = np.linspace(0, L, nz+1)[:-1]\n",
      "#y_vals = np.linspace(0, L, ny+1)[:-1]\n",
      "#x_vals = np.linspace(0, L, nx+1)[:-1]\n",
      "\n",
      "#rhos = np.zeros((nz, ny, nx))\n",
      "#rhos[nz/2., ny/2., nx/4.]    = 1.\n",
      "#rhos[nz/2., ny/2., nx*3./4.] = -1.\n",
      "#z0, y0, x0 = z_vals[nz/2], y_vals[ny/2], x_vals[nx/2]\n",
      "\n",
      "#beta = 5\n",
      "#solver = Poisson3DFFT(nz, dz, ny, dy, nx, dx)\n",
      "#phis = solver(rhos/(dz*dy*dx))\n",
      "\n",
      "#solverlr = Poisson3DFFTLR(nz, dz, ny, dy, nx, dx, beta)\n",
      "#phislr = solverlr(rhos/(dz*dy*dx))"
     ],
     "language": "python",
     "metadata": {},
     "outputs": [],
     "prompt_number": 9
    },
    {
     "cell_type": "code",
     "collapsed": false,
     "input": [
      "#plt.plot(x_vals, phislr[nz/2, ny/2, :])"
     ],
     "language": "python",
     "metadata": {},
     "outputs": [],
     "prompt_number": 10
    },
    {
     "cell_type": "code",
     "collapsed": false,
     "input": [
      "# Compare PM and P3M solves at long distances\n",
      "# for two particles. \n",
      "# They should be very close.\n",
      "#L = 2*np.pi\n",
      "#N = 128\n",
      "\n",
      "epsilon_vals = []#[.2, .3, .4, 1., 2]\n",
      "center = .5\n",
      "for epsilon in epsilon_vals:\n",
      "    x0 = np.array((center-epsilon, center+epsilon))%L\n",
      "    particles = Species(2, 1., 1., x0=x0)\n",
      "\n",
      "    picp3m = PIC3DP3M([particles], (L,L,L), (N,N,N))\n",
      "    picp3m.init_run(.1)\n",
      "    _, _, Exp3m = picp3m.calc_E_at_points()\n",
      "    \n",
      "    pic = PIC3DPM([particles], (L,L,L), (N,N,N))\n",
      "    pic.init_run(.1)\n",
      "    _, _, Ex = pic.calc_E_at_points()\n",
      "    \n",
      "    print epsilon, Exp3m, Ex\n",
      "    plt.scatter(epsilon*np.ones(2), Exp3m, color='b')\n",
      "    plt.scatter(epsilon*np.ones(2), Ex, color='r')\n"
     ],
     "language": "python",
     "metadata": {},
     "outputs": [],
     "prompt_number": 11
    },
    {
     "cell_type": "code",
     "collapsed": false,
     "input": [],
     "language": "python",
     "metadata": {},
     "outputs": [],
     "prompt_number": 11
    }
   ],
   "metadata": {}
  }
 ]
}