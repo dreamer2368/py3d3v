{
 "metadata": {
  "name": "",
  "signature": "sha256:4afd7f711bd37a8c2b8def7b360c41ddede3dc4176ff540ad91fca7d45ec5896"
 },
 "nbformat": 3,
 "nbformat_minor": 0,
 "worksheets": [
  {
   "cells": [
    {
     "cell_type": "code",
     "collapsed": false,
     "input": [
      "%matplotlib inline\n",
      "%load_ext cythonmagic"
     ],
     "language": "python",
     "metadata": {},
     "outputs": [],
     "prompt_number": 1
    },
    {
     "cell_type": "code",
     "collapsed": false,
     "input": [
      "import numpy as np\n",
      "import matplotlib.pyplot as plt\n",
      "from scipy.special import erfc\n",
      "from ewald import *\n",
      "from tools import *\n",
      "from pic3d3v import *\n",
      "from interp import *\n",
      "from solvers import *\n",
      "norm = lambda x: np.max(np.abs(x))"
     ],
     "language": "python",
     "metadata": {},
     "outputs": [],
     "prompt_number": 2
    },
    {
     "cell_type": "code",
     "collapsed": false,
     "input": [
      "N = 100\n",
      "alpha = 1.\n",
      "Lz = Ly = Lx = 2*np.pi\n",
      "\n",
      "np.random.seed(9998)\n",
      "zp = np.random.rand(N)*Lz\n",
      "yp = np.random.rand(N)*Ly\n",
      "xp = np.random.rand(N)*Lx\n",
      "q  = np.ones(N, dtype=np.double)"
     ],
     "language": "python",
     "metadata": {},
     "outputs": [],
     "prompt_number": 3
    },
    {
     "cell_type": "code",
     "collapsed": false,
     "input": [
      "res  = []\n",
      "for mmax in range(1, 10):\n",
      "    \n",
      "    Ezp, Eyp, Exp = ewald_sum(zp, Lz, yp, Ly, xp, Lx, \n",
      "                              q, alpha, mmax, mmax)\n",
      "    \n",
      "    res.append((Ezp, Eyp, Exp))"
     ],
     "language": "python",
     "metadata": {},
     "outputs": [],
     "prompt_number": 4
    },
    {
     "cell_type": "code",
     "collapsed": false,
     "input": [
      "max_change = []\n",
      "for r1, r2 in zip(res[:-1], res[1:]):\n",
      "    max_change.append(np.max([np.max(np.abs(r1[i]-r2[i])) \n",
      "                              for i in range(3)]))\n",
      "plt.semilogy(max_change)       "
     ],
     "language": "python",
     "metadata": {},
     "outputs": [
      {
       "metadata": {},
       "output_type": "pyout",
       "prompt_number": 5,
       "text": [
        "[<matplotlib.lines.Line2D at 0x7fb8ad93a390>]"
       ]
      },
      {
       "metadata": {},
       "output_type": "display_data",
       "png": "[encoded data removed]",
       "text": [
        "<matplotlib.figure.Figure at 0x7fb8ade5d4d0>"
       ]
      }
     ],
     "prompt_number": 5
    },
    {
     "cell_type": "code",
     "collapsed": false,
     "input": [
      "rmax = .5\n",
      "beta_vals = range(1, 10)\n",
      "nz = ny = nx = 128\n",
      "particles = Species(N, 1., 1., x0=xp, y0=yp, z0=zp)\n",
      "\n",
      "errs = []\n",
      "for beta in beta_vals:\n",
      "    picp3m = PIC3DP3M([particles], (Lz,Ly,Lx), (nz,ny,nx))\n",
      "    picp3m.init_run(0, beta=beta, rmax=rmax, N_cells=1)\n",
      "    Ezp3m, Eyp3m, Exp3m = picp3m.calc_E_at_points()\n",
      "\n",
      "    errs.append(np.max([norm(Ezp3m-Ezp), norm(Eyp3m-Eyp), norm(Exp3m-Exp)]))\n",
      "    \n",
      "plt.semilogy(errs)"
     ],
     "language": "python",
     "metadata": {},
     "outputs": [
      {
       "metadata": {},
       "output_type": "pyout",
       "prompt_number": 6,
       "text": [
        "[<matplotlib.lines.Line2D at 0x7fb8a9807c10>]"
       ]
      },
      {
       "metadata": {},
       "output_type": "display_data",
       "png": "[encoded data removed]",
       "text": [
        "<matplotlib.figure.Figure at 0x7fb8a97b0e50>"
       ]
      }
     ],
     "prompt_number": 6
    },
    {
     "cell_type": "code",
     "collapsed": false,
     "input": [],
     "language": "python",
     "metadata": {},
     "outputs": [],
     "prompt_number": 6
    }
   ],
   "metadata": {}
  }
 ]
}