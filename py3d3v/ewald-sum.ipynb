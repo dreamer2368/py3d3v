{
 "metadata": {
  "name": "",
  "signature": "sha256:01522b1c2f690d696b6ed1723a5263486dcd75954cd47dfc603b9736778a4fca"
 },
 "nbformat": 3,
 "nbformat_minor": 0,
 "worksheets": [
  {
   "cells": [
    {
     "cell_type": "code",
     "collapsed": false,
     "input": [
      "%matplotlib inline\n",
      "%load_ext cythonmagic"
     ],
     "language": "python",
     "metadata": {},
     "outputs": [],
     "prompt_number": 1
    },
    {
     "cell_type": "code",
     "collapsed": false,
     "input": [
      "import numpy as np\n",
      "import matplotlib.pyplot as plt\n",
      "from scipy.special import erfc\n",
      "from ewald import *"
     ],
     "language": "python",
     "metadata": {},
     "outputs": [],
     "prompt_number": 2
    },
    {
     "cell_type": "code",
     "collapsed": false,
     "input": [
      "N = 100\n",
      "alpha = 1.\n",
      "Lz = Ly = Lx = 2*np.pi\n",
      "\n",
      "zp = np.random.rand(N)*Lz\n",
      "yp = np.random.rand(N)*Ly\n",
      "xp = np.random.rand(N)*Lx\n",
      "q  = np.ones(N, dtype=np.double)"
     ],
     "language": "python",
     "metadata": {},
     "outputs": [],
     "prompt_number": 3
    },
    {
     "cell_type": "code",
     "collapsed": false,
     "input": [
      "res  = []\n",
      "for mmax in range(1, 10):\n",
      "    \n",
      "    Ezp, Eyp, Exp = ewald_sum(zp, Lz, yp, Ly, xp, Lx, \n",
      "                              q, alpha, mmax, mmax)\n",
      "    \n",
      "    res.append((Ezp, Eyp, Exp))"
     ],
     "language": "python",
     "metadata": {},
     "outputs": [],
     "prompt_number": 4
    },
    {
     "cell_type": "code",
     "collapsed": false,
     "input": [
      "max_change = []\n",
      "for r1, r2 in zip(res[:-1], res[1:]):\n",
      "    max_change.append(np.max([np.max(np.abs(r1[i]-r2[i])) \n",
      "                              for i in range(3)]))\n",
      "plt.semilogy(max_change)       "
     ],
     "language": "python",
     "metadata": {},
     "outputs": [
      {
       "metadata": {},
       "output_type": "pyout",
       "prompt_number": 5,
       "text": [
        "[<matplotlib.lines.Line2D at 0x7fd07f83ced0>]"
       ]
      },
      {
       "metadata": {},
       "output_type": "display_data",
       "png": "[encoded data removed]",
       "text": [
        "<matplotlib.figure.Figure at 0x7fd081aa3b50>"
       ]
      }
     ],
     "prompt_number": 5
    },
    {
     "cell_type": "code",
     "collapsed": false,
     "input": [],
     "language": "python",
     "metadata": {},
     "outputs": [],
     "prompt_number": 5
    }
   ],
   "metadata": {}
  }
 ]
}