{
 "metadata": {
  "name": "",
  "signature": "sha256:784a94960d00d66ab6a3b6927436c9832113d503a4d12e7fc83d1fa738781678"
 },
 "nbformat": 3,
 "nbformat_minor": 0,
 "worksheets": [
  {
   "cells": [
    {
     "cell_type": "code",
     "collapsed": false,
     "input": [
      "%matplotlib inline\n",
      "%load_ext cythonmagic"
     ],
     "language": "python",
     "metadata": {},
     "outputs": [],
     "prompt_number": 1
    },
    {
     "cell_type": "code",
     "collapsed": false,
     "input": [
      "import numpy as np\n",
      "import matplotlib.pyplot as plt\n",
      "from scipy.special import erfc\n",
      "from ewald import *\n",
      "from core import *\n",
      "from pic3d3v import *\n",
      "from interp import *\n",
      "from solvers import *\n",
      "norm = lambda x: np.max(np.abs(x))"
     ],
     "language": "python",
     "metadata": {},
     "outputs": [],
     "prompt_number": 2
    },
    {
     "cell_type": "code",
     "collapsed": false,
     "input": [
      "N = 100\n",
      "alpha = 1.\n",
      "Lz = Ly = Lx = 2*np.pi\n",
      "\n",
      "np.random.seed(9998)\n",
      "zp = np.random.rand(N)*Lz\n",
      "yp = np.random.rand(N)*Ly\n",
      "xp = np.random.rand(N)*Lx\n",
      "q  = np.ones(N, dtype=np.double)"
     ],
     "language": "python",
     "metadata": {},
     "outputs": []
    },
    {
     "cell_type": "code",
     "collapsed": false,
     "input": [
      "res  = []\n",
      "for mmax in range(1, 10):\n",
      "    \n",
      "    Ezp, Eyp, Exp = ewald_sum(zp, Lz, yp, Ly, xp, Lx, \n",
      "                              q, alpha, mmax, mmax)\n",
      "    \n",
      "    res.append((Ezp, Eyp, Exp))"
     ],
     "language": "python",
     "metadata": {},
     "outputs": []
    },
    {
     "cell_type": "code",
     "collapsed": false,
     "input": [
      "max_change = []\n",
      "for r1, r2 in zip(res[:-1], res[1:]):\n",
      "    max_change.append(np.max([np.max(np.abs(r1[i]-r2[i])) \n",
      "                              for i in range(3)]))\n",
      "plt.semilogy(max_change)       "
     ],
     "language": "python",
     "metadata": {},
     "outputs": []
    },
    {
     "cell_type": "code",
     "collapsed": false,
     "input": [
      "rmax = .5\n",
      "beta_vals = range(1, 10)\n",
      "nz = ny = nx = 128\n",
      "particles = Species(N, 1., 1., x0=xp, y0=yp, z0=zp)\n",
      "\n",
      "errs = []\n",
      "for beta in beta_vals:\n",
      "    picp3m = PIC3DP3M([particles], (Lz,Ly,Lx), (nz,ny,nx))\n",
      "    picp3m.init_run(0, beta=beta, rmax=rmax, N_cells=1)\n",
      "    Ezp3m, Eyp3m, Exp3m = picp3m.calc_E_at_points()\n",
      "\n",
      "    errs.append(np.max([norm(Ezp3m-Ezp), norm(Eyp3m-Eyp), norm(Exp3m-Exp)]))\n",
      "    \n",
      "plt.semilogy(beta_vals, errs)\n",
      "plt.xlabel(\"$\\\\beta$\")\n",
      "plt.ylabel(\"Error\")\n",
      "plt.title(\"Force Errors With Gaussian Screen\")\n",
      "plt.savefig(\"fe-gaussian.pdf\")"
     ],
     "language": "python",
     "metadata": {},
     "outputs": []
    },
    {
     "cell_type": "code",
     "collapsed": false,
     "input": [
      "rmax = .5\n",
      "beta_vals = np.linspace(.5, 2, 20)\n",
      "nz = ny = nx = 128\n",
      "particles = Species(N, 1., 1., x0=xp, y0=yp, z0=zp)\n",
      "\n",
      "errs = []\n",
      "for beta in beta_vals:\n",
      "    picp3m = PIC3DP3M([particles], (Lz,Ly,Lx), (nz,ny,nx))\n",
      "    picp3m.init_run(0, beta=beta, rmax=rmax, N_cells=1, screen=S2Screen)\n",
      "    Ezp3m, Eyp3m, Exp3m = picp3m.calc_E_at_points()\n",
      "\n",
      "    errs.append(np.max([norm(Ezp3m-Ezp), norm(Eyp3m-Eyp), norm(Exp3m-Exp)]))\n",
      "    \n",
      "plt.semilogy(beta_vals, errs)\n",
      "plt.xlabel(\"$\\\\beta$\")\n",
      "plt.ylabel(\"Error\")\n",
      "plt.title(\"Force Errors With HE Screen\")\n",
      "plt.savefig(\"fe-he.pdf\")"
     ],
     "language": "python",
     "metadata": {},
     "outputs": []
    },
    {
     "cell_type": "code",
     "collapsed": false,
     "input": [],
     "language": "python",
     "metadata": {},
     "outputs": []
    }
   ],
   "metadata": {}
  }
 ]
}