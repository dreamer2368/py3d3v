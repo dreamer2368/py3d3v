{
 "metadata": {
  "name": "",
  "signature": "sha256:de0662db09891031b79ef87a46edf98e81af36cc2e15c86e399acc6c0b0a40a1"
 },
 "nbformat": 3,
 "nbformat_minor": 0,
 "worksheets": [
  {
   "cells": [
    {
     "cell_type": "code",
     "collapsed": false,
     "input": [
      "%matplotlib inline\n",
      "%load_ext cythonmagic"
     ],
     "language": "python",
     "metadata": {},
     "outputs": [],
     "prompt_number": 1
    },
    {
     "cell_type": "code",
     "collapsed": false,
     "input": [
      "import numpy as np\n",
      "import matplotlib.pyplot as plt\n",
      "from scipy.special import erfc"
     ],
     "language": "python",
     "metadata": {},
     "outputs": [],
     "prompt_number": 2
    },
    {
     "cell_type": "code",
     "collapsed": false,
     "input": [
      "def ewald_real_sum(zp, Lz, yp, Ly, xp, Lx, q, alpha, mmax):\n",
      "    N = len(zp)\n",
      "    Ezp = np.zeros_like(zp)\n",
      "    Eyp = np.zeros_like(yp)\n",
      "    Exp = np.zeros_like(xp)\n",
      "    \n",
      "    a = 2.*alpha/np.sqrt(np.pi)\n",
      "    b = 1./(4*np.pi)\n",
      "    alpha2 = alpha**2\n",
      "    \n",
      "    # Loop over force on i due to j\n",
      "    for i in range(N):\n",
      "        for j in range(N):\n",
      "            \n",
      "            if i!=j:\n",
      "                Ez = Ey = Ex = 0.\n",
      "                dz = zp[i]-zp[j]\n",
      "                dy = yp[i]-yp[j]\n",
      "                dx = xp[i]-xp[j]\n",
      "                for mz in range(-mmax, mmax+1):\n",
      "                    for my in range(-mmax, mmax+1):\n",
      "                        for mx in range(-mmax, mmax+1):\n",
      "                            dzm = dz + mz*Lz\n",
      "                            dym = dy + my*Ly\n",
      "                            dxm = dx + mx*Lx\n",
      "\n",
      "                            r2 = dzm**2+dym**2+dxm**2\n",
      "                            r  = np.sqrt(r2)\n",
      "                            \n",
      "                            Er = (a*np.exp(-alpha2*r2)\\\n",
      "                                  +erfc(alpha*r)/r)/r\n",
      "                            \n",
      "                            qEr = q[j]*Er/r\n",
      "                            Ez += qEr*dzm\n",
      "                            Ey += qEr*dym\n",
      "                            Ex += qEr*dxm\n",
      "\n",
      "                Ezp[i] += Ez\n",
      "                Eyp[i] += Ey\n",
      "                Exp[i] += Ex\n",
      "\n",
      "    return (b*Ezp, b*Eyp, b*Exp)"
     ],
     "language": "python",
     "metadata": {},
     "outputs": [],
     "prompt_number": 3
    },
    {
     "cell_type": "code",
     "collapsed": false,
     "input": [
      "def ewald_recip_sum(zp, Lz, yp, Ly, xp, Lx, q, alpha, kmax):\n",
      "    N = len(zp)\n",
      "    Ezp = np.zeros_like(zp)\n",
      "    Eyp = np.zeros_like(yp)\n",
      "    Exp = np.zeros_like(xp)\n",
      "    \n",
      "    #a = 4*np.pi/(Lz*Ly*Lx)\n",
      "    a = 1./(Lz*Ly*Lx)\n",
      "    b = 1./(4*alpha**2)\n",
      "    \n",
      "    # Loop over force on i due to j\n",
      "    for i in range(N):\n",
      "        for j in range(N):\n",
      "            \n",
      "            if i!=j:\n",
      "                Ez = Ey = Ex = 0.\n",
      "                dz = zp[i]-zp[j]\n",
      "                dy = yp[i]-yp[j]\n",
      "                dx = xp[i]-xp[j]\n",
      "                for kzi in range(-kmax, kmax+1):\n",
      "                    kz = kzi*2*np.pi/Lz\n",
      "                    for kyi in range(-kmax, kmax+1):\n",
      "                        ky = kyi*2*np.pi/Ly\n",
      "                        for kxi in range(-kmax, kmax+1):\n",
      "                            kx = kxi*2*np.pi/Lx\n",
      "                            \n",
      "                            if kzi!=0 or kyi!=0 or kxi!=0:\n",
      "                                k2 = kz**2+ky**2+kx**2\n",
      "                                kr = kz*dz+ky*dy+kx*dx\n",
      "\n",
      "                                E = np.exp(-k2*b)*np.sin(kr)/k2\n",
      "                                qE = q[j]*E\n",
      "\n",
      "                                Ez += qE*kz\n",
      "                                Ey += qE*ky\n",
      "                                Ex += qE*kx\n",
      "\n",
      "                Ezp[i] += Ez\n",
      "                Eyp[i] += Ey\n",
      "                Exp[i] += Ex\n",
      "\n",
      "    return (a*Ezp, a*Eyp, a*Exp)"
     ],
     "language": "python",
     "metadata": {},
     "outputs": [],
     "prompt_number": 4
    },
    {
     "cell_type": "code",
     "collapsed": false,
     "input": [
      "N = 2\n",
      "alpha = 1\n",
      "Lz = Ly = Lx = 12*np.pi\n",
      "epsi = .1\n",
      "expected = 1./(4*np.pi*(2.*epsi)**2)\n",
      "print expected\n",
      "zp = np.array((-epsi, epsi))#np.random.rand(N)*Lz\n",
      "yp = np.zeros(2)#np.random.rand(N)*Ly\n",
      "xp = np.zeros(2)#np.random.rand(N)*Lx\n",
      "q  = np.ones(N,  dtype=np.double)"
     ],
     "language": "python",
     "metadata": {},
     "outputs": [
      {
       "output_type": "stream",
       "stream": "stdout",
       "text": [
        "1.98943678865\n"
       ]
      }
     ],
     "prompt_number": 5
    },
    {
     "cell_type": "code",
     "collapsed": false,
     "input": [
      "resr = []\n",
      "resk = []\n",
      "for mmax in range(1, 30):\n",
      "    Ezp, Eyp, Exp = ewald_real_sum(zp, Lz, yp, Ly, xp, Lx, q, alpha, mmax)\n",
      "    resr.append((Ezp, Eyp, Exp))\n",
      "    \n",
      "    Ezp, Eyp, Exp = ewald_recip_sum(zp, Lz, yp, Ly, xp, Lx, q, alpha, mmax)\n",
      "    resk.append((Ezp, Eyp, Exp))"
     ],
     "language": "python",
     "metadata": {},
     "outputs": [],
     "prompt_number": 6
    },
    {
     "cell_type": "code",
     "collapsed": false,
     "input": [
      "zr = np.array([Ezp[0] for (Ezp,_,_) in resr])\n",
      "zk = np.array([Ezp[0] for (Ezp,_,_) in resk])\n",
      "print (zr+zk)[-1]"
     ],
     "language": "python",
     "metadata": {},
     "outputs": [
      {
       "output_type": "stream",
       "stream": "stdout",
       "text": [
        "-1.98942035179\n"
       ]
      }
     ],
     "prompt_number": 7
    },
    {
     "cell_type": "code",
     "collapsed": false,
     "input": [
      "plt.plot(zr+zk)\n",
      "plt.plot(0*zr-expected)"
     ],
     "language": "python",
     "metadata": {},
     "outputs": [
      {
       "metadata": {},
       "output_type": "pyout",
       "prompt_number": 8,
       "text": [
        "[<matplotlib.lines.Line2D at 0x7f768c9dfd10>]"
       ]
      },
      {
       "metadata": {},
       "output_type": "display_data",
       "png": "[encoded data removed]",
       "text": [
        "<matplotlib.figure.Figure at 0x7f768c9dfe10>"
       ]
      }
     ],
     "prompt_number": 8
    },
    {
     "cell_type": "code",
     "collapsed": false,
     "input": [],
     "language": "python",
     "metadata": {},
     "outputs": [],
     "prompt_number": 8
    }
   ],
   "metadata": {}
  }
 ]
}