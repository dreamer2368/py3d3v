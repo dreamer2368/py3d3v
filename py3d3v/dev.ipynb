{
 "metadata": {
  "name": "",
  "signature": "sha256:d77439fb174b74cef5b56b1a0f3c880e64e4404e6f1295da450db407fd3c7cb4"
 },
 "nbformat": 3,
 "nbformat_minor": 0,
 "worksheets": [
  {
   "cells": [
    {
     "cell_type": "markdown",
     "metadata": {},
     "source": [
      "## Testing short range force functions"
     ]
    },
    {
     "cell_type": "code",
     "collapsed": false,
     "input": [
      "%matplotlib inline\n",
      "%load_ext autoreload\n",
      "%autoreload 2"
     ],
     "language": "python",
     "metadata": {},
     "outputs": [],
     "prompt_number": 1
    },
    {
     "cell_type": "code",
     "collapsed": false,
     "input": [
      "import numpy as np\n",
      "import time\n",
      "import matplotlib.pyplot as plt\n",
      "from tools import *\n",
      "from pic3d3v import *\n",
      "from interp import *\n",
      "from solvers import *\n",
      "norm = lambda x: np.max(np.abs(x))"
     ],
     "language": "python",
     "metadata": {},
     "outputs": [],
     "prompt_number": 2
    },
    {
     "cell_type": "code",
     "collapsed": false,
     "input": [
      "L = 6*np.pi\n",
      "N = 128\n",
      "epsilon_vals = np.linspace(.01, 1., 4)\n",
      "center = L/2.\n",
      "rmax = .5\n",
      "beta = 5\n",
      "for epsilon in epsilon_vals:\n",
      "    x0 = np.array((center-epsilon, center+epsilon))%L\n",
      "    particles = Species(2, 1., 1., x0=x0)\n",
      "\n",
      "    picp3m = PIC3DP3M([particles], (L,L,L), (N,N,N))\n",
      "    picp3m.init_run(.1, beta=beta, rmax=rmax)\n",
      "    Ezp3m, Eyp3m, Exp3m = picp3m.calc_E_at_points()\n",
      "    \n",
      "    pic = PIC3DPM([particles], (L,L,L), (N,N,N))\n",
      "    pic.init_run(.1)\n",
      "    _, _, Ex = pic.calc_E_at_points()\n",
      "    \n",
      "    print \"%.2f\"%(epsilon,), Exp3m, Ex, 1./(4*np.pi*4*epsilon**2)"
     ],
     "language": "python",
     "metadata": {},
     "outputs": [
      {
       "output_type": "stream",
       "stream": "stdout",
       "text": [
        "0.01 [-198.87921398  198.87921398] [-0.61868099  0.61868099] 198.943678865\n",
        "0.34"
       ]
      },
      {
       "output_type": "stream",
       "stream": "stdout",
       "text": [
        " [-0.19157959  0.19157959] [-0.20444307  0.20444307] 0.172096608015\n",
        "0.67"
       ]
      },
      {
       "output_type": "stream",
       "stream": "stdout",
       "text": [
        " [-0.04565064  0.04565064] [-0.04613164  0.04613164] 0.0443180393996\n",
        "1.00"
       ]
      },
      {
       "output_type": "stream",
       "stream": "stdout",
       "text": [
        " [-0.02001642  0.02001642] [-0.0201029  0.0201029] 0.0198943678865\n"
       ]
      }
     ],
     "prompt_number": 3
    },
    {
     "cell_type": "code",
     "collapsed": false,
     "input": [
      "N = 32**2\n",
      "xp = np.random.rand(N).astype(np.double)\n",
      "yp = np.random.rand(N).astype(np.double)\n",
      "zp = np.random.rand(N).astype(np.double)\n",
      "q  = np.ones_like(zp, dtype=np.double)\n",
      "Lz = Ly = Lx = np.pi\n",
      "rmax = .2\n",
      "beta = 5.\n",
      "N_cells = 3\n",
      "print Lz/N_cells\n",
      "\n",
      "particles = Species(N, 1., 1., x0=xp, y0=yp, z0=zp)\n",
      "pic = PIC3DP3M([particles], (Lz,Ly,Lx), (64,64,64))\n",
      "pic.init_run(.1, beta=beta, rmax=rmax, N_cells=N_cells)\n",
      "pic.sort_by_cells()"
     ],
     "language": "python",
     "metadata": {},
     "outputs": [
      {
       "output_type": "stream",
       "stream": "stdout",
       "text": [
        "1.0471975512\n"
       ]
      }
     ],
     "prompt_number": 4
    },
    {
     "cell_type": "code",
     "collapsed": false,
     "input": [
      "# Make sure matches over the whole domain\n",
      "Ezp1 = np.zeros(N, dtype=np.double)\n",
      "Eyp1 = np.zeros(N, dtype=np.double)\n",
      "Exp1 = np.zeros(N, dtype=np.double)\n",
      "\n",
      "calc_E_short_range_internal(N,\n",
      "                            Ezp1, zp, Lz, \n",
      "                            Eyp1, yp, Ly,\n",
      "                            Exp1, xp, Lx, \n",
      "                            q, rmax, beta)\n",
      "\n",
      "Ezp2, Eyp2, Exp2 = calc_E_short_range2(zp, yp, xp, \n",
      "                                       Lz, Ly, Lx, q, rmax, beta)\n",
      "\n",
      "print norm(Ezp1-Ezp2), norm(Eyp1-Eyp2), norm(Exp1-Exp2)"
     ],
     "language": "python",
     "metadata": {},
     "outputs": [
      {
       "output_type": "stream",
       "stream": "stdout",
       "text": [
        "1.13686837722e-13 9.09494701773e-13 5.45696821064e-12\n"
       ]
      }
     ],
     "prompt_number": 5
    },
    {
     "cell_type": "code",
     "collapsed": false,
     "input": [
      "Ezp2 = np.zeros(N, dtype=np.double)\n",
      "Eyp2 = np.zeros(N, dtype=np.double)\n",
      "Exp2 = np.zeros(N, dtype=np.double)\n",
      "\n",
      "cell_span = pic.cell_span\n",
      "N_cells = pic.N_cells\n",
      "\n",
      "_offsets = []\n",
      "for k in (-1,0,1):\n",
      "    for j in (-1,0,1):\n",
      "        for i in (-1,0,1):\n",
      "            _offsets.append((k, j, i))\n",
      "_offsets.remove((0,0,0))\n",
      "\n",
      "for k in range(N_cells):\n",
      "    for j in range(N_cells):\n",
      "        for i in range(N_cells):\n",
      "            \n",
      "            loc = i+j*N_cells+k*N_cells**2\n",
      "            \n",
      "            cs = cell_span[loc]\n",
      "            ce = cell_span[loc+1]\n",
      "            Np = ce-cs\n",
      "\n",
      "            calc_E_short_range_internal(Np,\n",
      "                                        Ezp2[cs:ce], zp[cs:ce], Lz, \n",
      "                                        Eyp2[cs:ce], yp[cs:ce], Ly,\n",
      "                                        Exp2[cs:ce], xp[cs:ce], Lx, \n",
      "                                        q[cs:ce], rmax, beta)\n",
      "                \n",
      "            for rk0, rj0, ri0 in _offsets:\n",
      "                rk = (k+rk0)%N_cells\n",
      "                rj = (j+rj0)%N_cells\n",
      "                ri = (i+ri0)%N_cells                   \n",
      "                r_loc = ri+rj*N_cells+rk*N_cells**2\n",
      "                    \n",
      "                rcs = cell_span[r_loc]\n",
      "                rce = cell_span[r_loc+1]\n",
      "                Npr = rce-rcs\n",
      "                    \n",
      "                    \n",
      "                calc_E_short_range_external(Np, Npr,\n",
      "                                            Ezp2[cs:ce], zp[cs:ce], Lz, \n",
      "                                            Eyp2[cs:ce], yp[cs:ce], Ly,\n",
      "                                            Exp2[cs:ce], xp[cs:ce], Lx,\n",
      "                                            zp[rcs:rce],\n",
      "                                            yp[rcs:rce],\n",
      "                                            xp[rcs:rce],\n",
      "                                            q[rcs:rce], rmax, beta)\n",
      "\n",
      "print norm(Ezp1-Ezp2), norm(Eyp1-Eyp2), norm(Exp1-Exp2)"
     ],
     "language": "python",
     "metadata": {},
     "outputs": [
      {
       "output_type": "stream",
       "stream": "stdout",
       "text": [
        "1.42108547152e-14 1.42108547152e-14 1.42108547152e-14\n"
       ]
      }
     ],
     "prompt_number": 6
    },
    {
     "cell_type": "code",
     "collapsed": false,
     "input": [
      "plt.scatter(np.arange(N), Ezp1-Ezp2)"
     ],
     "language": "python",
     "metadata": {},
     "outputs": [
      {
       "metadata": {},
       "output_type": "pyout",
       "prompt_number": 7,
       "text": [
        "<matplotlib.collections.PathCollection at 0x7f6477a11710>"
       ]
      },
      {
       "metadata": {},
       "output_type": "display_data",
       "png": "[encoded data removed]",
       "text": [
        "<matplotlib.figure.Figure at 0x7f647ab522d0>"
       ]
      }
     ],
     "prompt_number": 7
    },
    {
     "cell_type": "code",
     "collapsed": false,
     "input": [],
     "language": "python",
     "metadata": {},
     "outputs": [],
     "prompt_number": 7
    }
   ],
   "metadata": {}
  }
 ]
}