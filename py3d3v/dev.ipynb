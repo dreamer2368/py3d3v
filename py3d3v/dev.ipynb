{
 "metadata": {
  "name": "",
  "signature": "sha256:9adaf62e066938e6fc0e67055e926a307277e4fced2afafd4bec54985411dd85"
 },
 "nbformat": 3,
 "nbformat_minor": 0,
 "worksheets": [
  {
   "cells": [
    {
     "cell_type": "markdown",
     "metadata": {},
     "source": [
      "## Testing short range force functions"
     ]
    },
    {
     "cell_type": "code",
     "collapsed": false,
     "input": [
      "%matplotlib inline\n",
      "%load_ext autoreload\n",
      "%autoreload 2"
     ],
     "language": "python",
     "metadata": {},
     "outputs": [],
     "prompt_number": 1
    },
    {
     "cell_type": "code",
     "collapsed": false,
     "input": [
      "import numpy as np\n",
      "import time\n",
      "import matplotlib.pyplot as plt\n",
      "from tools import *\n",
      "from pic3d3v import *\n",
      "from interp import *\n",
      "from solvers import *\n",
      "norm = lambda x: np.max(np.abs(x))"
     ],
     "language": "python",
     "metadata": {},
     "outputs": [],
     "prompt_number": 2
    },
    {
     "cell_type": "code",
     "collapsed": false,
     "input": [
      "L = 6*np.pi\n",
      "N = 128\n",
      "epsilon_vals = np.linspace(.01, 1., 4)\n",
      "center = L/2.\n",
      "rmax = .5\n",
      "beta = 5\n",
      "for epsilon in epsilon_vals:\n",
      "    x0 = np.array((center-epsilon, center+epsilon))%L\n",
      "    particles = Species(2, 1., 1., x0=x0)\n",
      "\n",
      "    picp3m = PIC3DP3M([particles], (L,L,L), (N,N,N))\n",
      "    picp3m.init_run(.1, beta=beta, rmax=rmax)\n",
      "    Ezp3m, Eyp3m, Exp3m = picp3m.calc_E_at_points()\n",
      "    \n",
      "    pic = PIC3DPM([particles], (L,L,L), (N,N,N))\n",
      "    pic.init_run(.1)\n",
      "    _, _, Ex = pic.calc_E_at_points()\n",
      "    \n",
      "    print \"%.2f\"%(epsilon,), Exp3m, Ex, 1./(4*np.pi*4*epsilon**2)"
     ],
     "language": "python",
     "metadata": {},
     "outputs": [
      {
       "output_type": "stream",
       "stream": "stdout",
       "text": [
        "0.01 [-198.87921398  198.87921398] [-0.61868099  0.61868099] 198.943678865\n",
        "0.34"
       ]
      },
      {
       "output_type": "stream",
       "stream": "stdout",
       "text": [
        " [-0.19157959  0.19157959] [-0.20444307  0.20444307] 0.172096608015\n",
        "0.67"
       ]
      },
      {
       "output_type": "stream",
       "stream": "stdout",
       "text": [
        " [-0.04565064  0.04565064] [-0.04613164  0.04613164] 0.0443180393996\n",
        "1.00"
       ]
      },
      {
       "output_type": "stream",
       "stream": "stdout",
       "text": [
        " [-0.02001642  0.02001642] [-0.0201029  0.0201029] 0.0198943678865\n"
       ]
      }
     ],
     "prompt_number": 3
    },
    {
     "cell_type": "code",
     "collapsed": false,
     "input": [
      "N = 32**3\n",
      "xp = np.random.rand(N).astype(np.double)\n",
      "yp = np.random.rand(N).astype(np.double)\n",
      "zp = np.random.rand(N).astype(np.double)\n",
      "q  = np.ones_like(zp, dtype=np.double)\n",
      "Lz = Ly = Lx = np.pi\n",
      "rmax = .2\n",
      "beta = 5.\n",
      "N_cells = 12\n",
      "print Lz/N_cells, rmax\n",
      "\n",
      "particles = Species(N, 1., 1., x0=xp, y0=yp, z0=zp)\n",
      "pic = PIC3DP3M([particles], (Lz,Ly,Lx), (64,64,64))\n",
      "pic.init_run(.1, beta=beta, rmax=rmax, N_cells=N_cells)\n",
      "pic.sort_by_cells()\n",
      "zp=pic.zp; yp=pic.yp; xp=pic.xp\n",
      "q=pic.q\n",
      "\n",
      "\n",
      "\n",
      "Ezpe, Eype, Expe = calc_E_short_range2(zp, yp, xp, \n",
      "                                       Lz, Ly, Lx, q, rmax, beta)\n",
      "\n",
      "# Make sure matches over the whole domain\n",
      "Ezp1 = np.zeros(N, dtype=np.double)\n",
      "Eyp1 = np.zeros(N, dtype=np.double)\n",
      "Exp1 = np.zeros(N, dtype=np.double)\n",
      "\n",
      "calc_E_short_range_internal(N,\n",
      "                            Ezp1, zp, Lz, \n",
      "                            Eyp1, yp, Ly,\n",
      "                            Exp1, xp, Lx, \n",
      "                            q, rmax, beta)\n",
      "print norm(Ezp1-Ezpe), norm(Eyp1-Eype), norm(Exp1-Expe)\n",
      "\n",
      "Ezp3 = np.zeros(N, dtype=np.double)\n",
      "Eyp3 = np.zeros(N, dtype=np.double)\n",
      "Exp3 = np.zeros(N, dtype=np.double)\n",
      "\n",
      "cell_span = pic.cell_span\n",
      "N_cells = pic.N_cells\n",
      "calc_E_short_range(Ezp3, zp, Lz,\n",
      "                   Eyp3, yp, Ly,\n",
      "                   Exp3, xp, Lx,\n",
      "                   q, \n",
      "                   N_cells, cell_span,\n",
      "                   rmax, beta)\n",
      "\n",
      "print norm(Ezp1-Ezp3), norm(Eyp1-Eyp3), norm(Exp1-Exp3)"
     ],
     "language": "python",
     "metadata": {},
     "outputs": [
      {
       "output_type": "stream",
       "stream": "stdout",
       "text": [
        "0.261799387799 0.2\n",
        "1.09139364213e-11"
       ]
      },
      {
       "output_type": "stream",
       "stream": "stdout",
       "text": [
        " 7.27595761418e-12 3.63797880709e-12\n",
        "3.63797880709e-11"
       ]
      },
      {
       "output_type": "stream",
       "stream": "stdout",
       "text": [
        " 3.63797880709e-11 1.16415321827e-10\n"
       ]
      }
     ],
     "prompt_number": 8
    },
    {
     "cell_type": "code",
     "collapsed": false,
     "input": [
      "%timeit calc_E_short_range_old(Ezp3, zp, Lz, \\\n",
      "                               Eyp3, yp, Ly, \\\n",
      "                               Exp3, xp, Lx, \\\n",
      "                               q, rmax, beta)"
     ],
     "language": "python",
     "metadata": {},
     "outputs": [
      {
       "output_type": "stream",
       "stream": "stdout",
       "text": [
        "1 loops, best of 3: 2.68 s per loop\n"
       ]
      }
     ],
     "prompt_number": 5
    },
    {
     "cell_type": "code",
     "collapsed": false,
     "input": [
      "%timeit calc_E_short_range(Ezp3, zp, Lz, \\\n",
      "                           Eyp3, yp, Ly, \\\n",
      "                           Exp3, xp, Lx, \\\n",
      "                           q,  \\\n",
      "                           N_cells, cell_span, \\\n",
      "                           rmax, beta)"
     ],
     "language": "python",
     "metadata": {},
     "outputs": [
      {
       "output_type": "stream",
       "stream": "stdout",
       "text": [
        "1 loops, best of 3: 2.34 s per loop\n"
       ]
      }
     ],
     "prompt_number": 6
    },
    {
     "cell_type": "code",
     "collapsed": false,
     "input": [],
     "language": "python",
     "metadata": {},
     "outputs": [],
     "prompt_number": 6
    }
   ],
   "metadata": {}
  }
 ]
}