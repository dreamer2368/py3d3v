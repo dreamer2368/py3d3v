{
 "metadata": {
  "name": "",
  "signature": "sha256:af8092457c1bf70dff481ff154d241a1f4ecbb5fb01f90a0baa39d595642b63c"
 },
 "nbformat": 3,
 "nbformat_minor": 0,
 "worksheets": [
  {
   "cells": [
    {
     "cell_type": "markdown",
     "metadata": {},
     "source": [
      "## Testing short range force functions"
     ]
    },
    {
     "cell_type": "code",
     "collapsed": false,
     "input": [
      "%matplotlib inline\n",
      "%load_ext autoreload\n",
      "%autoreload 2"
     ],
     "language": "python",
     "metadata": {},
     "outputs": [],
     "prompt_number": 1
    },
    {
     "cell_type": "code",
     "collapsed": false,
     "input": [
      "import numpy as np\n",
      "import time\n",
      "import matplotlib.pyplot as plt\n",
      "from core import *\n",
      "from pic3d3v import *\n",
      "from interp import *\n",
      "from solvers import *\n",
      "norm = lambda x: np.max(np.abs(x))"
     ],
     "language": "python",
     "metadata": {},
     "outputs": [],
     "prompt_number": 2
    },
    {
     "cell_type": "code",
     "collapsed": false,
     "input": [
      "L = 6*np.pi\n",
      "N = 128\n",
      "epsilon_vals = np.linspace(.01, 1., 4)\n",
      "center = L/2.\n",
      "rmax = .5\n",
      "beta = 5\n",
      "\n",
      "if False:\n",
      "    for epsilon in epsilon_vals:\n",
      "        x0 = np.array((center-epsilon, center+epsilon))%L\n",
      "        particles = Species(2, 1., 1., x0=x0)\n",
      "\n",
      "        picp3m = PIC3DP3M([particles], (L,L,L), (N,N,N))\n",
      "        picp3m.init_run(.1, beta=beta, rmax=rmax)\n",
      "        Ezp3m, Eyp3m, Exp3m = picp3m.calc_E_at_points()\n",
      "\n",
      "        pic = PIC3DPM([particles], (L,L,L), (N,N,N))\n",
      "        pic.init_run(.1)\n",
      "        _, _, Ex = pic.calc_E_at_points()\n",
      "\n",
      "        print \"%.2f\"%(epsilon,), Exp3m, Ex, 1./(4*np.pi*4*epsilon**2)"
     ],
     "language": "python",
     "metadata": {},
     "outputs": [],
     "prompt_number": 3
    },
    {
     "cell_type": "code",
     "collapsed": false,
     "input": [],
     "language": "python",
     "metadata": {},
     "outputs": [],
     "prompt_number": 3
    }
   ],
   "metadata": {}
  }
 ]
}