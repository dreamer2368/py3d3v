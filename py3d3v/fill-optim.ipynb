{
 "metadata": {
  "name": "",
  "signature": "sha256:f41986a9f9a30c9aa6e6104cc89f65cac7e318950473baf4a407ac8e30e83caf"
 },
 "nbformat": 3,
 "nbformat_minor": 0,
 "worksheets": [
  {
   "cells": [
    {
     "cell_type": "code",
     "collapsed": false,
     "input": [
      "%matplotlib inline\n",
      "%load_ext cythonmagic"
     ],
     "language": "python",
     "metadata": {},
     "outputs": [],
     "prompt_number": 1
    },
    {
     "cell_type": "code",
     "collapsed": false,
     "input": [
      "import numpy as np\n",
      "import matplotlib.pyplot as plt\n",
      "from mpl_toolkits.mplot3d import Axes3D\n",
      "from tools import *\n",
      "from pic3d3v import *\n",
      "from interp import *\n",
      "from solvers import *\n",
      "norm = lambda x: np.max(np.abs(x))"
     ],
     "language": "python",
     "metadata": {},
     "outputs": [],
     "prompt_number": 2
    },
    {
     "cell_type": "code",
     "collapsed": false,
     "input": [
      "Nx = 128\n",
      "Ny = 256\n",
      "Nz = 256\n",
      "N = Nx*Ny*Nz\n",
      "\n",
      "L = 2.*np.pi\n",
      "mode = 1\n",
      "A = .01\n",
      "wp2 = 1.\n",
      "B0 = 0\n",
      "nt = 1\n",
      "dt = .1\n",
      "t_vals = np.linspace(0, dt*nt, nt+1)\n",
      "        \n",
      "nz = ny = 64\n",
      "nx = 64\n",
      "\n",
      "dz, dy, dx = L/nz, L/ny, L/nx\n",
      "V = dz*dy*dx\n",
      "Ez = Ey = Ex = np.zeros((nz, ny, nx))    \n",
      "n0       = Nx/L\n",
      "k        = mode*2*np.pi/L\n",
      "x0       = np.linspace(0., L, Nx+1)[:-1]\n",
      "x1       = A*np.cos(x0*k)\n",
      "init_pos = x0 + x1\n",
      "x0i      = np.linspace(0., L, Nx+1)[:-1]\n",
      "normalize(init_pos, L)\n",
      "y0  = np.linspace(0., L, Ny+1)[:-1]\n",
      "z0  = np.linspace(0., L, Nz+1)[:-1]\n",
      "z0a = np.zeros(N)\n",
      "y0a = np.zeros(N)\n",
      "x0a = np.zeros(N)\n",
      "ind = 0\n",
      "for iz in range(Nz):\n",
      "    for iy in range(Ny):\n",
      "        for ix in range(Nx):\n",
      "            z0a[ind] = z0[iz]\n",
      "            y0a[ind] = y0[iy]\n",
      "            x0a[ind] = init_pos[ix]\n",
      "            ind += 1\n",
      "\n",
      "q = wp2/n0\n",
      "m = q\n",
      "#q = q/L**3\n",
      "q = q*L**2/(Ny*Nz)\n",
      "m = q\n",
      "\n",
      "electron = Species(N, -q, m,   x0=x0a, z0=z0a, y0=y0a)\n",
      "ion      = Species(N, +q, -1., x0=x0i,      z0=z0, y0=y0)\n",
      "\n",
      "#species = [electron, ion]\n",
      "species = [electron]\n",
      "wp      = np.sqrt(wp2)"
     ],
     "language": "python",
     "metadata": {},
     "outputs": [],
     "prompt_number": 3
    },
    {
     "cell_type": "code",
     "collapsed": false,
     "input": [
      "pic = PIC3DPM(species, (L, L, L), (nz, ny, nx))\n",
      "pic.init_run(dt)\n",
      "Ex = pic.Exp\n",
      "plt.plot(Ex[:Nx])"
     ],
     "language": "python",
     "metadata": {},
     "outputs": [
      {
       "metadata": {},
       "output_type": "pyout",
       "prompt_number": 4,
       "text": [
        "[<matplotlib.lines.Line2D at 0xb33620c>]"
       ]
      },
      {
       "metadata": {},
       "output_type": "display_data",
       "png": "[encoded data removed]",
       "text": [
        "<matplotlib.figure.Figure at 0xb2cb1ac>"
       ]
      }
     ],
     "prompt_number": 4
    },
    {
     "cell_type": "code",
     "collapsed": false,
     "input": [
      "pic = PIC3DPM(species, (L, L, L), (nz, ny, nx))\n",
      "xa = np.zeros((nt+1, N))\n",
      "# init half step back\n",
      "pic.init_run(dt)"
     ],
     "language": "python",
     "metadata": {},
     "outputs": [],
     "prompt_number": 5
    },
    {
     "cell_type": "code",
     "collapsed": false,
     "input": [
      "%prun pic.single_step(dt)"
     ],
     "language": "python",
     "metadata": {},
     "outputs": [
      {
       "output_type": "stream",
       "stream": "stdout",
       "text": [
        " "
       ]
      }
     ],
     "prompt_number": 6
    },
    {
     "cell_type": "code",
     "collapsed": false,
     "input": [],
     "language": "python",
     "metadata": {},
     "outputs": [],
     "prompt_number": 6
    }
   ],
   "metadata": {}
  }
 ]
}