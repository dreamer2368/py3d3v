{
 "metadata": {
  "name": "",
  "signature": "sha256:854dc4110167cca4fecae277b29ce203fa7b5501733ef06b74a88c0580b168c7"
 },
 "nbformat": 3,
 "nbformat_minor": 0,
 "worksheets": [
  {
   "cells": [
    {
     "cell_type": "code",
     "collapsed": false,
     "input": [
      "%matplotlib inline\n",
      "%load_ext cythonmagic\n",
      "%load_ext line_profiler_ext"
     ],
     "language": "python",
     "metadata": {},
     "outputs": [],
     "prompt_number": 1
    },
    {
     "cell_type": "code",
     "collapsed": false,
     "input": [
      "import numpy as np\n",
      "import matplotlib.pyplot as plt\n",
      "from mpl_toolkits.mplot3d import Axes3D\n",
      "from tools import *\n",
      "from pic3d3v import *\n",
      "from interp import *\n",
      "from solvers import *\n",
      "norm = lambda x: np.max(np.abs(x))"
     ],
     "language": "python",
     "metadata": {},
     "outputs": [],
     "prompt_number": 2
    },
    {
     "cell_type": "code",
     "collapsed": false,
     "input": [
      "Nx = 256\n",
      "Ny = 256\n",
      "Nz = 256\n",
      "N = Nx*Ny*Nz\n",
      "\n",
      "L = 2.*np.pi\n",
      "mode = 1\n",
      "A = .01\n",
      "wp2 = 1.\n",
      "B0 = 0\n",
      "nt = 1\n",
      "dt = .1\n",
      "t_vals = np.linspace(0, dt*nt, nt+1)\n",
      "        \n",
      "nz = ny = 128\n",
      "nx = 128\n",
      "\n",
      "dz, dy, dx = L/nz, L/ny, L/nx\n",
      "V = dz*dy*dx\n",
      "Ez = Ey = Ex = np.zeros((nz, ny, nx))    \n",
      "n0       = Nx/L\n",
      "k        = mode*2*np.pi/L\n",
      "x0       = np.linspace(0., L, Nx+1)[:-1]\n",
      "x1       = A*np.cos(x0*k)\n",
      "init_pos = x0 + x1\n",
      "x0i      = np.linspace(0., L, Nx+1)[:-1]\n",
      "normalize(init_pos, L)\n",
      "y0  = np.linspace(0., L, Ny+1)[:-1]\n",
      "z0  = np.linspace(0., L, Nz+1)[:-1]\n",
      "z0a = np.zeros(N)\n",
      "y0a = np.zeros(N)\n",
      "x0a = np.zeros(N)\n",
      "ind = 0\n",
      "for iz in range(Nz):\n",
      "    for iy in range(Ny):\n",
      "        for ix in range(Nx):\n",
      "            z0a[ind] = z0[iz]\n",
      "            y0a[ind] = y0[iy]\n",
      "            x0a[ind] = init_pos[ix]\n",
      "            ind += 1\n",
      "\n",
      "q = wp2/n0\n",
      "m = q\n",
      "#q = q/L**3\n",
      "q = q*L**2/(Ny*Nz)\n",
      "m = q\n",
      "\n",
      "electron = Species(N, -q, m,   x0=x0a, z0=z0a, y0=y0a)\n",
      "ion      = Species(N, +q, -1., x0=x0i,      z0=z0, y0=y0)\n",
      "\n",
      "#species = [electron, ion]\n",
      "species = [electron]\n",
      "wp      = np.sqrt(wp2)"
     ],
     "language": "python",
     "metadata": {},
     "outputs": [],
     "prompt_number": 3
    },
    {
     "cell_type": "code",
     "collapsed": false,
     "input": [
      "pic = PIC3DPM(species, (L, L, L), (nz, ny, nx))\n",
      "pic.init_run(dt)\n",
      "Ex = pic.Exp\n",
      "plt.plot(Ex[:Nx])"
     ],
     "language": "python",
     "metadata": {},
     "outputs": [
      {
       "metadata": {},
       "output_type": "pyout",
       "prompt_number": 4,
       "text": [
        "[<matplotlib.lines.Line2D at 0x7fa38b3f1cd0>]"
       ]
      },
      {
       "metadata": {},
       "output_type": "display_data",
       "png": "[encoded data removed]",
       "text": [
        "<matplotlib.figure.Figure at 0x7fa453c912d0>"
       ]
      }
     ],
     "prompt_number": 4
    },
    {
     "cell_type": "code",
     "collapsed": false,
     "input": [
      "pic = PIC3DPM(species, (L, L, L), (nz, ny, nx))\n",
      "xa = np.zeros((nt+1, N))\n",
      "# init half step back\n",
      "pic.init_run(dt)"
     ],
     "language": "python",
     "metadata": {},
     "outputs": [],
     "prompt_number": 5
    },
    {
     "cell_type": "code",
     "collapsed": false,
     "input": [
      "%prun pic.single_step(dt)"
     ],
     "language": "python",
     "metadata": {},
     "outputs": [
      {
       "output_type": "stream",
       "stream": "stdout",
       "text": [
        " "
       ]
      }
     ],
     "prompt_number": 6
    },
    {
     "cell_type": "code",
     "collapsed": false,
     "input": [
      "%lprun -f pic.calc_E_at_points pic.calc_E_at_points()"
     ],
     "language": "python",
     "metadata": {},
     "outputs": [],
     "prompt_number": 7
    },
    {
     "cell_type": "code",
     "collapsed": false,
     "input": [
      "i = 64\n",
      "k = 8\n",
      "j = (i+i%k+1)/k\n",
      "print j, j*k, i"
     ],
     "language": "python",
     "metadata": {},
     "outputs": [
      {
       "output_type": "stream",
       "stream": "stdout",
       "text": [
        "8 64 64\n"
       ]
      }
     ],
     "prompt_number": 8
    },
    {
     "cell_type": "code",
     "collapsed": false,
     "input": [
      "try_shuffle = False\n",
      "if try_shuffle:\n",
      "    n_blocks = 8\n",
      "    nx_block = (nx+nx%n_blocks+1)/n_blocks\n",
      "    x_block  = np.floor((pic.xp/dx)/nx_block)\n",
      "    ny_block = (ny+ny%n_blocks+1)/n_blocks\n",
      "    y_block  = np.floor((pic.yp/dy)/ny_block)\n",
      "    nz_block = (nz+nz%n_blocks+1)/n_blocks\n",
      "    z_block  = np.floor((pic.zp/dz)/nz_block)\n",
      "    print [np.unique(j) for j in [x_block, y_block, z_block]]"
     ],
     "language": "python",
     "metadata": {},
     "outputs": [],
     "prompt_number": 9
    },
    {
     "cell_type": "code",
     "collapsed": false,
     "input": [
      "if try_shuffle:\n",
      "    block_ind = -np.ones(N)\n",
      "    ind = 0\n",
      "    for k in range(n_blocks):\n",
      "        for j in range(n_blocks):\n",
      "            for i in range(n_blocks):\n",
      "                curr_ind = np.logical_and(\\\n",
      "                           np.logical_and(x_block==i, y_block==j),\n",
      "                                          z_block==k)\n",
      "                block_ind[curr_ind] = ind\n",
      "                ind += 1\n",
      "\n",
      "    assert (block_ind>=0).all()\n",
      "    block_ind = block_ind.astype(np.int)\n",
      "    shuffle = np.argsort(block_ind)\n",
      "    pic.xp[:] = pic.xp[shuffle]\n",
      "    %prun pic.single_step(dt)"
     ],
     "language": "python",
     "metadata": {},
     "outputs": [],
     "prompt_number": 10
    },
    {
     "cell_type": "code",
     "collapsed": false,
     "input": [],
     "language": "python",
     "metadata": {},
     "outputs": [],
     "prompt_number": 10
    }
   ],
   "metadata": {}
  }
 ]
}