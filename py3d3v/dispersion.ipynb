{
 "metadata": {
  "name": "",
  "signature": "sha256:146025619f351801ba18a488f417e915eaa612a6932353fa81ea268640cf4196"
 },
 "nbformat": 3,
 "nbformat_minor": 0,
 "worksheets": [
  {
   "cells": [
    {
     "cell_type": "code",
     "collapsed": false,
     "input": [
      "%matplotlib inline\n",
      "%load_ext cythonmagic"
     ],
     "language": "python",
     "metadata": {},
     "outputs": [],
     "prompt_number": 1
    },
    {
     "cell_type": "code",
     "collapsed": false,
     "input": [
      "import numpy as np\n",
      "import time\n",
      "import matplotlib.pyplot as plt\n",
      "from mpl_toolkits.mplot3d import Axes3D\n",
      "from tools import *\n",
      "from pic3d3v import *\n",
      "from interp import *\n",
      "from solvers import *\n",
      "from landau import *\n",
      "norm = lambda x: np.max(np.abs(x))"
     ],
     "language": "python",
     "metadata": {},
     "outputs": [],
     "prompt_number": 2
    },
    {
     "cell_type": "code",
     "collapsed": false,
     "input": [
      "ntc = 10\n",
      "nx0 = 128\n",
      "results = []\n",
      "for ppc in [.5, 1, 2]:\n",
      "    print \"Starting ppc: \", ppc\n",
      "    start = time.clock()\n",
      "    for mode in range(1, 20+1):\n",
      "        Nx0 = int(nx0*ppc)\n",
      "        l3d = Landau3D(save_rr=True, nt=ntc, mode=mode,\n",
      "                       grid_dims=(nx0,nx0,nx0),\n",
      "                       part_dims=(Nx0,Nx0,Nx0))\n",
      "        l3d.init_run()\n",
      "        l3d.run()\n",
      "\n",
      "        t_vals = np.linspace(0, l3d.nt*l3d.dt, l3d.nt+1)\n",
      "        wpe = np.cos(l3d.k*l3d.dx/2)*l3d.wp\n",
      "\n",
      "        rr = l3d.rr\n",
      "        omega = np.mean(np.arccos(2*rr[1:ntc+1]/rr[0]-1)/(2*t_vals[1:ntc+1]))\n",
      "\n",
      "        # Get rid of the memory heavy part of l3d\n",
      "        l3d.pic   = None\n",
      "        l3d.wpe   = wpe\n",
      "        l3d.omega = omega\n",
      "        l3d.ppc   = ppc\n",
      "        results.append(l3d)\n",
      "    print \"Done ppc: \", ppc, \" Time: \", time.clock()-start"
     ],
     "language": "python",
     "metadata": {},
     "outputs": [
      {
       "output_type": "stream",
       "stream": "stdout",
       "text": [
        "Starting ppc:  0.5\n",
        "Done ppc: "
       ]
      },
      {
       "output_type": "stream",
       "stream": "stdout",
       "text": [
        " 0.5  Time:  201.667977\n",
        "Starting ppc:  1\n",
        "Done ppc: "
       ]
      },
      {
       "output_type": "stream",
       "stream": "stdout",
       "text": [
        " 1  Time:  371.285302\n",
        "Starting ppc:  2\n",
        "Done ppc: "
       ]
      },
      {
       "output_type": "stream",
       "stream": "stdout",
       "text": [
        " 2  Time:  1752.202517\n"
       ]
      }
     ],
     "prompt_number": 3
    },
    {
     "cell_type": "code",
     "collapsed": false,
     "input": [
      "colors = {.5:'b', 1:'g', 2:'r'}\n",
      "for r in results:\n",
      "    \n",
      "    #plt.scatter(r.k, r.wpe, 'b')\n",
      "    plt.scatter(r.k, r.omega, color=colors[r.ppc])\n"
     ],
     "language": "python",
     "metadata": {},
     "outputs": [
      {
       "metadata": {},
       "output_type": "display_data",
       "png": "[encoded data removed]",
       "text": [
        "<matplotlib.figure.Figure at 0x7f27cc3a0910>"
       ]
      }
     ],
     "prompt_number": 4
    },
    {
     "cell_type": "code",
     "collapsed": false,
     "input": [
      "ntc = 10\n",
      "nx0 = 128\n",
      "Nx0 = 128\n",
      "resultsnx = []\n",
      "for nx0s in [.5, 1, 2]:\n",
      "    print \"Starting nx0s: \", nx0s\n",
      "    start = time.clock()\n",
      "    for mode in range(1, 5+1):\n",
      "        nx = int(nx0*nx0s)\n",
      "        l3d = Landau3D(save_rr=True, nt=ntc, mode=mode,\n",
      "                       grid_dims=(nx,nx,nx),\n",
      "                       part_dims=(Nx0,Nx0,Nx0))\n",
      "        l3d.init_run()\n",
      "        l3d.run()\n",
      "\n",
      "        t_vals = np.linspace(0, l3d.nt*l3d.dt, l3d.nt+1)\n",
      "        wpe = np.cos(l3d.k*l3d.dx/2)*l3d.wp\n",
      "\n",
      "        rr = l3d.rr\n",
      "        omega = np.mean(np.arccos(2*rr[1:ntc+1]/rr[0]-1)/(2*t_vals[1:ntc+1]))\n",
      "\n",
      "        # Get rid of the memory heavy part of l3d\n",
      "        l3d.pic   = None\n",
      "        l3d.wpe   = wpe\n",
      "        l3d.omega = omega\n",
      "        l3d.ppc   = 1./nx0s\n",
      "        resultsnx.append(l3d)\n",
      "    print \"Done nx0s: \", nx0s, \" Time: \", time.clock()-start"
     ],
     "language": "python",
     "metadata": {},
     "outputs": [
      {
       "output_type": "stream",
       "stream": "stdout",
       "text": [
        "Starting nx0s:  0.5\n",
        "Done nx0s: "
       ]
      },
      {
       "output_type": "stream",
       "stream": "stdout",
       "text": [
        " 0.5  Time:  57.29552\n",
        "Starting nx0s:  1\n",
        "Done nx0s: "
       ]
      },
      {
       "output_type": "stream",
       "stream": "stdout",
       "text": [
        " 1  Time:  91.955507\n",
        "Starting nx0s:  2\n",
        "Done nx0s: "
       ]
      },
      {
       "output_type": "stream",
       "stream": "stdout",
       "text": [
        " 2  Time:  392.740708\n"
       ]
      }
     ],
     "prompt_number": 5
    },
    {
     "cell_type": "code",
     "collapsed": false,
     "input": [
      "colors = {.5:'b', 1:'g', 2:'r'}\n",
      "for r in resultsnx:\n",
      "    \n",
      "    #plt.scatter(r.k, r.wpe, 'b')\n",
      "    plt.scatter(r.k, r.omega, color=colors[r.ppc])\n"
     ],
     "language": "python",
     "metadata": {},
     "outputs": [
      {
       "metadata": {},
       "output_type": "display_data",
       "png": "[encoded data removed]",
       "text": [
        "<matplotlib.figure.Figure at 0x7f27ca0a3ad0>"
       ]
      }
     ],
     "prompt_number": 6
    },
    {
     "cell_type": "code",
     "collapsed": false,
     "input": [
      "ntc = 10\n",
      "nx0 = 64\n",
      "Nx0 = 64\n",
      "resultsnx = []\n",
      "for nx0s in [1]:\n",
      "    print \"Starting nx0s: \", nx0s\n",
      "    start = time.clock()\n",
      "    for mode in range(1, 5+1):\n",
      "        nx = int(nx0*nx0s)\n",
      "        l3d = Landau3D(save_rr=True, nt=ntc, mode=mode,\n",
      "                       grid_dims=(nx,nx,nx),\n",
      "                       part_dims=(Nx0,Nx0,Nx0))\n",
      "        l3d.init_run()\n",
      "        l3d.run()\n",
      "\n",
      "        t_vals = np.linspace(0, l3d.nt*l3d.dt, l3d.nt+1)\n",
      "        wpe = np.cos(l3d.k*l3d.dx/2)*l3d.wp\n",
      "\n",
      "        rr = l3d.rr\n",
      "        omega = np.mean(np.arccos(2*rr[1:ntc+1]/rr[0]-1)/(2*t_vals[1:ntc+1]))\n",
      "\n",
      "        # Get rid of the memory heavy part of l3d\n",
      "        l3d.pic   = None\n",
      "        l3d.wpe   = wpe\n",
      "        l3d.omega = omega\n",
      "        l3d.ppc   = 1./nx0s\n",
      "        resultsnx.append(l3d)\n",
      "    print \"Done nx0s: \", nx0s, \" Time: \", time.clock()-start"
     ],
     "language": "python",
     "metadata": {},
     "outputs": [
      {
       "output_type": "stream",
       "stream": "stdout",
       "text": [
        "Starting nx0s:  1\n",
        "Done nx0s: "
       ]
      },
      {
       "output_type": "stream",
       "stream": "stdout",
       "text": [
        " 1  Time:  13.836725\n"
       ]
      }
     ],
     "prompt_number": 7
    },
    {
     "cell_type": "code",
     "collapsed": false,
     "input": [
      "colors = {.5:'b', 1:'g', 2:'r'}\n",
      "for r in resultsnx:\n",
      "    \n",
      "    #plt.scatter(r.k, r.wpe, 'b')\n",
      "    plt.scatter(r.k, r.omega, color=colors[r.ppc])"
     ],
     "language": "python",
     "metadata": {},
     "outputs": [
      {
       "metadata": {},
       "output_type": "display_data",
       "png": "[encoded data removed]",
       "text": [
        "<matplotlib.figure.Figure at 0x7f27cc3b91d0>"
       ]
      }
     ],
     "prompt_number": 8
    },
    {
     "cell_type": "code",
     "collapsed": false,
     "input": [],
     "language": "python",
     "metadata": {},
     "outputs": [],
     "prompt_number": 8
    }
   ],
   "metadata": {}
  }
 ]
}