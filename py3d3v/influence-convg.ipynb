{
 "metadata": {
  "name": "",
  "signature": "sha256:1c73ed9a12ce763c3745e8cf7e162d14588aa83f8ed5e2a889c19851bd3e47c5"
 },
 "nbformat": 3,
 "nbformat_minor": 0,
 "worksheets": [
  {
   "cells": [
    {
     "cell_type": "markdown",
     "metadata": {},
     "source": [
      "Measuring the rate of convergence of the influence function w.r.t m_max"
     ]
    },
    {
     "cell_type": "code",
     "collapsed": false,
     "input": [
      "%matplotlib inline"
     ],
     "language": "python",
     "metadata": {},
     "outputs": [],
     "prompt_number": 1
    },
    {
     "cell_type": "code",
     "collapsed": false,
     "input": [
      "import numpy as np\n",
      "from solvers import *\n",
      "import matplotlib.pyplot as plt\n",
      "norm = lambda x: np.max(np.abs(x))"
     ],
     "language": "python",
     "metadata": {},
     "outputs": [],
     "prompt_number": 2
    },
    {
     "cell_type": "code",
     "collapsed": false,
     "input": [
      "nz = ny = nx = 56\n",
      "dz = dy = dx = .1\n",
      "beta = 5\n",
      "\n",
      "inf_all = []\n",
      "for i in range(1, 9):\n",
      "    inf_all.append(build_inf_lr_gaussian_optim(nz, dz, ny, dy, \n",
      "                                               nx, dx, beta, i))"
     ],
     "language": "python",
     "metadata": {},
     "outputs": [],
     "prompt_number": 3
    },
    {
     "cell_type": "code",
     "collapsed": false,
     "input": [
      "i = 1\n",
      "for inf1, inf2 in zip(inf_all[1:], inf_all[:-1]):\n",
      "    print i, norm(inf1-inf2)\n",
      "    i += 1"
     ],
     "language": "python",
     "metadata": {},
     "outputs": [
      {
       "output_type": "stream",
       "stream": "stdout",
       "text": [
        "1 9.77692830005e-07\n",
        "2 1.83176503689e-07\n",
        "3 5.68874534935e-08\n",
        "4 2.31002852983e-08\n",
        "5 1.10878569429e-08\n",
        "6 5.96797015496e-09\n",
        "7 3.49186724197e-09\n"
       ]
      }
     ],
     "prompt_number": 4
    },
    {
     "cell_type": "code",
     "collapsed": false,
     "input": [
      "nz = ny = nx = 32\n",
      "dz = dy = dx = .1\n",
      "beta = 1\n",
      "\n",
      "inf_all = []\n",
      "for i in range(1, 9):\n",
      "    inf_all.append(build_inf_lr_s2_optim(nz, dz, ny, dy, \n",
      "                                         nx, dx, beta, i))"
     ],
     "language": "python",
     "metadata": {},
     "outputs": [],
     "prompt_number": 5
    },
    {
     "cell_type": "code",
     "collapsed": false,
     "input": [
      "i = 1\n",
      "for inf1, inf2 in zip(inf_all[1:], inf_all[:-1]):\n",
      "    print i, norm(inf1-inf2)\n",
      "    i += 1"
     ],
     "language": "python",
     "metadata": {},
     "outputs": [
      {
       "output_type": "stream",
       "stream": "stdout",
       "text": [
        "1 92619186.5465\n",
        "2 791156.939657\n",
        "3 105818.142877\n",
        "4 18395.6878634\n",
        "5 3563.53714386\n",
        "6 824.937979237\n",
        "7 226.161330741\n"
       ]
      }
     ],
     "prompt_number": 6
    },
    {
     "cell_type": "code",
     "collapsed": false,
     "input": [
      "i = np.argmax(np.abs(inf_all[1]-inf_all[0]))\n",
      "\n",
      "z = int(i/(ny*nx))\n",
      "y = int((i-z*ny*nx)/nx)\n",
      "x = int(i-z*ny*nx-y*nx)\n",
      "\n",
      "print z, y, x\n",
      "\n",
      "plt.semilogy([inf.flatten()[i] for inf in inf_all])\n",
      "[inf.flatten()[i] for inf in inf_all]"
     ],
     "language": "python",
     "metadata": {},
     "outputs": [
      {
       "output_type": "stream",
       "stream": "stdout",
       "text": [
        "16 16 16\n"
       ]
      },
      {
       "metadata": {},
       "output_type": "pyout",
       "prompt_number": 7,
       "text": [
        "[-92456550.838491291,\n",
        " 162635.70797568225,\n",
        " 128943.42951365051,\n",
        " 23125.286636942888,\n",
        " 4729.5987735192066,\n",
        " 1166.0616296572575,\n",
        " 341.12365041998419,\n",
        " 114.96231967908892]"
       ]
      },
      {
       "metadata": {},
       "output_type": "display_data",
       "png": "[encoded data removed]",
       "text": [
        "<matplotlib.figure.Figure at 0x7ff94d100c50>"
       ]
      }
     ],
     "prompt_number": 7
    },
    {
     "cell_type": "code",
     "collapsed": false,
     "input": [
      "kv = np.fft.fftfreq(32)*2*np.pi/dx\n",
      "#plt.plot(np.sin(kv*dx/2.)/(kv*dx/2.))\n",
      "print kv\n",
      "print 2*np.pi/dx"
     ],
     "language": "python",
     "metadata": {},
     "outputs": [
      {
       "output_type": "stream",
       "stream": "stdout",
       "text": [
        "[  0.           1.96349541   3.92699082   5.89048623   7.85398163\n",
        "   9.81747704  11.78097245  13.74446786  15.70796327  17.67145868\n",
        "  19.63495408  21.59844949  23.5619449   25.52544031  27.48893572\n",
        "  29.45243113 -31.41592654 -29.45243113 -27.48893572 -25.52544031\n",
        " -23.5619449  -21.59844949 -19.63495408 -17.67145868 -15.70796327\n",
        " -13.74446786 -11.78097245  -9.81747704  -7.85398163  -5.89048623\n",
        "  -3.92699082  -1.96349541]\n",
        "62.8318530718\n"
       ]
      }
     ],
     "prompt_number": 8
    },
    {
     "cell_type": "code",
     "collapsed": false,
     "input": [
      "#plt.plot(kv*dx/2.)\n",
      "(kv*dx/2.)[16]"
     ],
     "language": "python",
     "metadata": {},
     "outputs": [
      {
       "metadata": {},
       "output_type": "pyout",
       "prompt_number": 9,
       "text": [
        "-1.5707963267948966"
       ]
      }
     ],
     "prompt_number": 9
    },
    {
     "cell_type": "code",
     "collapsed": false,
     "input": [],
     "language": "python",
     "metadata": {},
     "outputs": [],
     "prompt_number": 9
    }
   ],
   "metadata": {}
  }
 ]
}