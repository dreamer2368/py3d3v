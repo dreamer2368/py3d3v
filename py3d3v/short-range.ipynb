{
 "metadata": {
  "name": "",
  "signature": "sha256:5360993439231707f23623b69cc7e78f87a8c8a19def09f895efe68641de0baf"
 },
 "nbformat": 3,
 "nbformat_minor": 0,
 "worksheets": [
  {
   "cells": [
    {
     "cell_type": "markdown",
     "metadata": {},
     "source": [
      "## Testing short range force functions"
     ]
    },
    {
     "cell_type": "code",
     "collapsed": false,
     "input": [
      "%matplotlib inline\n",
      "%load_ext autoreload\n",
      "%autoreload 2\n",
      "%load_ext cythonmagic"
     ],
     "language": "python",
     "metadata": {},
     "outputs": [],
     "prompt_number": 1
    },
    {
     "cell_type": "code",
     "collapsed": false,
     "input": [
      "import numpy as np\n",
      "import time\n",
      "from mpl_toolkits.mplot3d import Axes3D\n",
      "import matplotlib.pyplot as plt\n",
      "from tools import *\n",
      "from pic3d3v import *\n",
      "from interp import *\n",
      "from solvers import *\n",
      "norm = lambda x: np.max(np.abs(x))"
     ],
     "language": "python",
     "metadata": {},
     "outputs": [],
     "prompt_number": 2
    },
    {
     "cell_type": "code",
     "collapsed": false,
     "input": [
      "%%cython\n",
      "\n",
      "import numpy as np\n",
      "cimport numpy as np\n",
      "import scipy as sp\n",
      "from libc.math cimport floor, ceil, exp\n",
      "\n",
      "ctypedef np.float64_t DOUBLE\n",
      "\n",
      "\n",
      "cdef double _erf_scale = np.sqrt(np.pi)/2.\n",
      "cdef double erf(double z):\n",
      "    return _erf_scale*sp.special.erf(z)\n",
      "\n",
      "def calc_E_short_range(double[:] zp, double[:] yp, double[:] xp,\n",
      "                       double Lz, double Ly, double Lx,\n",
      "                       double[:] q, double rmax, double beta):\n",
      "    cdef int i, j\n",
      "    cdef double dz, dy, dx, r2, r2max, r\n",
      "    cdef double E, Ep, c\n",
      "    \n",
      "    cdef int N = len(zp)\n",
      "    r2max = rmax**2\n",
      "    c = 1./(2*np.sqrt(np.pi**3))\n",
      "    cdef np.ndarray Ezp = np.zeros(N, dtype=np.double)\n",
      "    cdef np.ndarray Eyp = np.zeros(N, dtype=np.double)\n",
      "    cdef np.ndarray Exp = np.zeros(N, dtype=np.double)\n",
      "\n",
      "    for i in range(N-1):\n",
      "        for j in range(i+1, N):\n",
      "            dz = zp[i]-zp[j]\n",
      "            dy = yp[i]-yp[j]\n",
      "            dx = xp[i]-xp[j]\n",
      "            r2 = dz**2+dy**2+dx**2\n",
      "            if r2<=r2max and r2>0:\n",
      "                \n",
      "                r = np.sqrt(r2)\n",
      "                E = c*(erf(r*beta)/r2-beta*np.exp(-beta**2*r2)/r)\n",
      "                Ep = 1./(4*np.pi*r2)\n",
      "                Ezp[i] +=  q[j]*dz*(Ep-E)/r \n",
      "                Ezp[j] += -q[i]*dz*(Ep-E)/r\n",
      "                Eyp[i] +=  q[j]*dy*(Ep-E)/r\n",
      "                Eyp[j] += -q[i]*dy*(Ep-E)/r\n",
      "                Exp[i] +=  q[j]*dx*(Ep-E)/r\n",
      "                Exp[j] += -q[i]*dx*(Ep-E)/r\n",
      "                \n",
      "    return (Ezp, Eyp, Exp)        \n"
     ],
     "language": "python",
     "metadata": {},
     "outputs": [],
     "prompt_number": 3
    },
    {
     "cell_type": "code",
     "collapsed": false,
     "input": [
      "def erf(z):\n",
      "    return sp.special.erf(z)*np.sqrt(np.pi)/2.\n",
      "\n",
      "r_vals  = np.linspace(.01, .1, 10)\n",
      "r2_vals = r_vals**2\n",
      "beta_vals = 10*np.arange(2, 11, 2)\n",
      "for beta in beta_vals: \n",
      "    c = 1./(2*np.sqrt(np.pi**3))\n",
      "    E = c*(erf(r_vals*beta)/r2_vals-beta*np.exp(-beta**2*r2_vals)/r_vals)\n",
      "    Ep = 1./(4*np.pi*r2_vals)\n",
      "    plt.semilogy(r_vals, Ep - E, label=str(beta))\n",
      "    \n",
      "plt.legend()"
     ],
     "language": "python",
     "metadata": {},
     "outputs": [
      {
       "metadata": {},
       "output_type": "pyout",
       "prompt_number": 4,
       "text": [
        "<matplotlib.legend.Legend at 0x7fae2ac9fd10>"
       ]
      },
      {
       "metadata": {},
       "output_type": "display_data",
       "png": "[encoded data removed]",
       "text": [
        "<matplotlib.figure.Figure at 0x7fae2ac9fd50>"
       ]
      }
     ],
     "prompt_number": 4
    },
    {
     "cell_type": "code",
     "collapsed": false,
     "input": [
      "r_vals  = np.array([.02])\n",
      "r2_vals = r_vals**2\n",
      "beta_vals = 10*np.arange(2, 11, 2)\n",
      "for beta in beta_vals: \n",
      "    c = 1./(2*np.sqrt(np.pi**3))\n",
      "    E = c*(erf(r_vals*beta)/r2_vals-beta*np.exp(-beta**2*r2_vals)/r_vals)\n",
      "    Ep = 1./(4*np.pi*r2_vals)\n",
      "    plt.scatter(beta, Ep - E)"
     ],
     "language": "python",
     "metadata": {},
     "outputs": [
      {
       "metadata": {},
       "output_type": "display_data",
       "png": "[encoded data removed]",
       "text": [
        "<matplotlib.figure.Figure at 0x7fae28a6a4d0>"
       ]
      }
     ],
     "prompt_number": 5
    },
    {
     "cell_type": "code",
     "collapsed": false,
     "input": [
      "# Test calc_E_short_range\n",
      "x = np.array((.1, .2, .35))\n",
      "y = np.array((.1, .2, .35))\n",
      "z = np.array((.1, .2, .35))\n",
      "q = np.ones_like(x)\n",
      "\n",
      "calc_E_short_range(z, y, x, 1, 1, 1, q, .2, 50)\n"
     ],
     "language": "python",
     "metadata": {},
     "outputs": [
      {
       "metadata": {},
       "output_type": "pyout",
       "prompt_number": 6,
       "text": [
        "(array([ -2.56395025e-16,   2.56395025e-16,   0.00000000e+00]),\n",
        " array([ -2.56395025e-16,   2.56395025e-16,   0.00000000e+00]),\n",
        " array([ -2.56395025e-16,   2.56395025e-16,   0.00000000e+00]))"
       ]
      }
     ],
     "prompt_number": 6
    },
    {
     "cell_type": "code",
     "collapsed": false,
     "input": [
      "# Compare PM and P3M solves at long distances\n",
      "# for two particles. \n",
      "# They should be very close.\n",
      "L = 2*np.pi\n",
      "N = 128\n",
      "\n",
      "epsilon_vals = np.linspace(.01, .2, 4)\n",
      "center = 1.\n",
      "rmax = .2\n",
      "beta = 100\n",
      "for epsilon in epsilon_vals:\n",
      "    x0 = np.array((center-epsilon, center+epsilon))%L\n",
      "    particles = Species(2, 1., 1., x0=x0)\n",
      "\n",
      "    picp3m = PIC3DP3M([particles], (L,L,L), (N,N,N))\n",
      "    picp3m.init_run(.1, beta=beta)\n",
      "    Ezp3m, Eyp3m, Exp3m = picp3m.calc_E_at_points()\n",
      "    \n",
      "    pic = PIC3DPM([particles], (L,L,L), (N,N,N))\n",
      "    pic.init_run(.1)\n",
      "    _, _, Ex = pic.calc_E_at_points()\n",
      "    \n",
      "    print \"%.2f\"%(epsilon,), Exp3m, Ex, 1./(4*np.pi*4*epsilon**2)\n",
      "    plt.scatter(epsilon*np.ones(2), Exp3m, color='b')\n",
      "    plt.scatter(epsilon*np.ones(2), Ex, color='r')"
     ],
     "language": "python",
     "metadata": {},
     "outputs": [
      {
       "output_type": "stream",
       "stream": "stdout",
       "text": [
        "0.01 [-11.80734859  11.80734859] [-17.74113628  17.74113628] 198.943678865\n",
        "0.07"
       ]
      },
      {
       "output_type": "stream",
       "stream": "stdout",
       "text": [
        " [-4.0344637  4.0344637] [-5.32312599  5.32312599] 3.69936592931\n",
        "0.14"
       ]
      },
      {
       "output_type": "stream",
       "stream": "stdout",
       "text": [
        " [-1.14104281  1.14104281] [-1.18350039  1.18350039] 1.06513569886\n",
        "0.20"
       ]
      },
      {
       "output_type": "stream",
       "stream": "stdout",
       "text": [
        " [-0.51576137  0.51576137] [-0.52280159  0.52280159] 0.497359197162\n"
       ]
      },
      {
       "metadata": {},
       "output_type": "display_data",
       "png": "[encoded data removed]",
       "text": [
        "<matplotlib.figure.Figure at 0x7fae289eba90>"
       ]
      }
     ],
     "prompt_number": 7
    },
    {
     "cell_type": "code",
     "collapsed": false,
     "input": [
      "N_cells = 3\n",
      "N_parts = 1000\n",
      "Lz = Ly = Lx = 2*np.pi\n",
      "zp = np.random.rand(N_parts)*Lz\n",
      "yp = np.random.rand(N_parts)*Ly\n",
      "xp = np.random.rand(N_parts)*Lx\n",
      "\n",
      "Cz = Lz/N_cells\n",
      "Cy = Ly/N_cells\n",
      "Cx = Lx/N_cells\n",
      "\n",
      "zp_cell = np.trunc(zp/Cz)\n",
      "yp_cell = np.trunc(yp/Cy)\n",
      "xp_cell = np.trunc(xp/Cx)\n",
      "\n",
      "cell = xp_cell+yp_cell*N_cells+zp_cell*N_cells**2\n",
      "\n",
      "s = cell.argsort()\n",
      "zp[:] = zp[s]\n",
      "yp[:] = yp[s]\n",
      "xp[:] = xp[s]\n",
      "cell[:] = cell[s]\n",
      "\n",
      "print np.unique(zp_cell), np.unique(yp_cell), np.unique(xp_cell)\n",
      "print np.unique(cell)"
     ],
     "language": "python",
     "metadata": {},
     "outputs": [
      {
       "output_type": "stream",
       "stream": "stdout",
       "text": [
        "[ 0.  1.  2.] [ 0.  1.  2.] [ 0.  1.  2.]\n",
        "[  0.   1.   2.   3.   4.   5.   6.   7.   8.   9.  10.  11.  12.  13.  14.\n",
        "  15.  16.  17.  18.  19.  20.  21.  22.  23.  24.  25.  26.]\n"
       ]
      }
     ],
     "prompt_number": 8
    },
    {
     "cell_type": "code",
     "collapsed": false,
     "input": [
      "#fig = plt.figure()\n",
      "#ax = fig.add_subplot(111, projection='3d')\n",
      "#ax.scatter(xp, yp, zp, c=cell*10)\n",
      "#plt.show()"
     ],
     "language": "python",
     "metadata": {},
     "outputs": [],
     "prompt_number": 9
    },
    {
     "cell_type": "code",
     "collapsed": false,
     "input": [
      "#fig = plt.figure()\n",
      "#ax = fig.add_subplot(111, projection='3d')\n",
      "#c = 17\n",
      "#ax.scatter(xp[cell==c], yp[cell==c], zp[cell==c])\n",
      "#ax.set_zlim((0, Lz))\n",
      "#ax.set_ylim((0, Ly))\n",
      "#ax.set_xlim((0, Lx))\n",
      "#plt.show()"
     ],
     "language": "python",
     "metadata": {},
     "outputs": [],
     "prompt_number": 10
    },
    {
     "cell_type": "code",
     "collapsed": false,
     "input": [],
     "language": "python",
     "metadata": {},
     "outputs": [],
     "prompt_number": 10
    }
   ],
   "metadata": {}
  }
 ]
}