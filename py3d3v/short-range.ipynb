{
 "metadata": {
  "name": "",
  "signature": "sha256:e4cbe98c0d12a04b653e7ac21d60f70d9fa32ce0cb5a8c8e61e384b1e8c4fdea"
 },
 "nbformat": 3,
 "nbformat_minor": 0,
 "worksheets": [
  {
   "cells": [
    {
     "cell_type": "markdown",
     "metadata": {},
     "source": [
      "## Testing short range force functions"
     ]
    },
    {
     "cell_type": "code",
     "collapsed": false,
     "input": [
      "%matplotlib inline\n",
      "%load_ext autoreload\n",
      "%autoreload 2"
     ],
     "language": "python",
     "metadata": {},
     "outputs": [],
     "prompt_number": 1
    },
    {
     "cell_type": "code",
     "collapsed": false,
     "input": [
      "import numpy as np\n",
      "import time\n",
      "import matplotlib.pyplot as plt\n",
      "from tools import *\n",
      "from pic3d3v import *\n",
      "from interp import *\n",
      "from solvers import *\n",
      "norm = lambda x: np.max(np.abs(x))"
     ],
     "language": "python",
     "metadata": {},
     "outputs": [],
     "prompt_number": 2
    },
    {
     "cell_type": "code",
     "collapsed": false,
     "input": [
      "L = 2*np.pi\n",
      "N = 128\n",
      "epsilon = .3\n",
      "center = .5\n",
      "x0 = np.array((center-epsilon, center+epsilon))%L\n",
      "particles = Species(2, 1., 1., x0=x0)\n",
      "\n",
      "picp3m = PIC3DP3M([particles], (L,L,L), (N,N,N))\n",
      "picp3m.init_run(.1)\n",
      "_, _, Exp3m = picp3m.calc_E_at_points()\n",
      "    \n"
     ],
     "language": "python",
     "metadata": {},
     "outputs": [],
     "prompt_number": 3
    },
    {
     "cell_type": "code",
     "collapsed": false,
     "input": [
      "def calc_E_short_range(zp, xp, yp, q, rmax, beta):\n",
      "    N = len(zp)\n",
      "    r2max = rmax**2\n",
      "    \n",
      "    Ezp = np.zeros(N, dtype=np.double)\n",
      "    Eyp = np.zeros(N, dtype=np.double)\n",
      "    Exp = np.zeros(N, dtype=np.double)\n",
      "    \n",
      "    for i in range(N-1):\n",
      "        for j in range(i+1, N):\n",
      "            r2 = (zp[i]-zp[j])**2 +\\\n",
      "                 (yp[i]-yp[j])**2 +\\\n",
      "                 (xp[i]-xp[j])**2\n",
      "            if r2<=r2max:\n",
      "                # Increment to debug\n",
      "                Ezp[i] += 1; Ezp[j] += 1\n",
      "                Eyp[i] += 1; Eyp[j] += 1\n",
      "                Exp[i] += 1; Exp[j] += 1\n",
      "                \n",
      "    return (Ezp, Eyp, Exp)"
     ],
     "language": "python",
     "metadata": {},
     "outputs": [],
     "prompt_number": 4
    },
    {
     "cell_type": "code",
     "collapsed": false,
     "input": [
      "# Test calc_E_short_range\n",
      "x = np.array((.1, .2, .3))\n",
      "y = np.array((.1, .2, .3))\n",
      "z = np.array((.1, .2, .3))\n",
      "q = np.ones_like(x)\n",
      "\n",
      "calc_E_short_range(z, y, x, q, .2, 1)\n"
     ],
     "language": "python",
     "metadata": {},
     "outputs": [
      {
       "metadata": {},
       "output_type": "pyout",
       "prompt_number": 5,
       "text": [
        "(array([ 1.,  2.,  1.]), array([ 1.,  2.,  1.]), array([ 1.,  2.,  1.]))"
       ]
      }
     ],
     "prompt_number": 5
    },
    {
     "cell_type": "code",
     "collapsed": false,
     "input": [],
     "language": "python",
     "metadata": {},
     "outputs": [],
     "prompt_number": 5
    }
   ],
   "metadata": {}
  }
 ]
}