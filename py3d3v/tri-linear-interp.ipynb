{
 "metadata": {
  "name": "",
  "signature": "sha256:9466746194f0773418914a8c4c1799c25d9edfd3ea16c3e74070eef987c64645"
 },
 "nbformat": 3,
 "nbformat_minor": 0,
 "worksheets": [
  {
   "cells": [
    {
     "cell_type": "code",
     "collapsed": false,
     "input": [
      "import numpy as np\n",
      "import matplotlib.pyplot as plt\n",
      "%load_ext cythonmagic\n",
      "norm = lambda x: np.max(np.abs(x))"
     ],
     "language": "python",
     "metadata": {},
     "outputs": [],
     "prompt_number": 1
    },
    {
     "cell_type": "code",
     "collapsed": false,
     "input": [
      "from interp import *"
     ],
     "language": "python",
     "metadata": {},
     "outputs": [],
     "prompt_number": 2
    },
    {
     "cell_type": "code",
     "collapsed": false,
     "input": [
      "%%cython\n",
      "import numpy as np\n",
      "cimport numpy as np\n",
      "from libc.math cimport floor, ceil\n",
      "\n",
      "ctypedef np.float64_t DOUBLE\n",
      "\n",
      "cpdef weight_cic2(np.ndarray[DOUBLE,ndim=3] grid,\n",
      "                 np.ndarray[DOUBLE,ndim=1] z,\n",
      "                 np.ndarray[DOUBLE,ndim=1] y,\n",
      "                 np.ndarray[DOUBLE,ndim=1] x,\n",
      "                 np.ndarray[DOUBLE,ndim=1] q,\n",
      "                 double rho0=0.):\n",
      "    \"\"\"Assume all inputs are scaled to grid points\n",
      "    \n",
      "    Periodic in x, y, z\n",
      "    \"\"\"\n",
      "    cdef int i\n",
      "    cdef int N = z.shape[0]\n",
      "    cdef int nz, ny, nx\n",
      "    cdef double xd, yd, zd, qi\n",
      "    cdef double x0, x1, y0, y1, z0, z1\n",
      "    nz, ny, nx = grid.shape[0], grid.shape[1], grid.shape[2]\n",
      "    \n",
      "    grid[:,:,:] = rho0\n",
      "    for i in range(N):\n",
      "        x0, x1 = floor(x[i]), ceil(x[i])%nx\n",
      "        y0, y1 = floor(y[i]), ceil(y[i])%ny\n",
      "        z0, z1 = floor(z[i]), ceil(z[i])%nz\n",
      "        xd, yd, zd = (x[i]-x0), (y[i]-y0), (z[i]-z0)\n",
      "        qi = q[i]\n",
      "        \n",
      "        grid[z0, y0, x0] += qi*(1-xd)*(1-yd)*(1-zd)\n",
      "        grid[z0, y0, x1] += qi*xd*(1-yd)*(1-zd)\n",
      "        grid[z0, y1, x0] += qi*(1-xd)*yd*(1-zd)\n",
      "        grid[z0, y1, x1] += qi*xd*yd*(1-zd)\n",
      "        grid[z1, y0, x0] += qi*(1-xd)*(1-yd)*zd\n",
      "        grid[z1, y0, x1] += qi*xd*(1-yd)*zd\n",
      "        grid[z1, y1, x0] += qi*(1-xd)*yd*zd\n",
      "        grid[z1, y1, x1] += qi*xd*yd*zd\n",
      "\n",
      "                      "
     ],
     "language": "python",
     "metadata": {},
     "outputs": [],
     "prompt_number": 3
    },
    {
     "cell_type": "code",
     "collapsed": false,
     "input": [
      "nz, ny, nx = 2, 2, 2\n",
      "grid = np.zeros((nz, ny, nx))\n",
      "L = 1.\n",
      "dz, dy, dx = L/nz, L/ny, L/nx\n",
      "\n",
      "x_vals = np.array([.25])\n",
      "y_vals = np.array([.25])\n",
      "z_vals = np.array([.25])\n",
      "q_vals = np.ones_like(z_vals)\n",
      "\n",
      "weight_cic(grid, z_vals/dz, y_vals/dy, x_vals/dx, q_vals)\n",
      "\n",
      "print (grid.flatten()==0.125).all()\n",
      "print np.sum(grid)==1.0"
     ],
     "language": "python",
     "metadata": {},
     "outputs": [
      {
       "output_type": "stream",
       "stream": "stdout",
       "text": [
        "True\n",
        "True\n"
       ]
      }
     ],
     "prompt_number": 4
    },
    {
     "cell_type": "code",
     "collapsed": false,
     "input": [
      "nz, ny, nx = 2, 2, 2\n",
      "grid = np.zeros((nz, ny, nx))\n",
      "L = 1.\n",
      "dz, dy, dx = L/nz, L/ny, L/nx\n",
      "\n",
      "x_vals = np.array([.75])\n",
      "y_vals = np.array([.75])\n",
      "z_vals = np.array([.75])\n",
      "q_vals = np.ones_like(z_vals)\n",
      "\n",
      "weight_cic(grid, z_vals/dz, y_vals/dy, x_vals/dx, q_vals)\n",
      "\n",
      "print (grid.flatten()==0.125).all()\n",
      "print np.sum(grid)==1.0"
     ],
     "language": "python",
     "metadata": {},
     "outputs": [
      {
       "output_type": "stream",
       "stream": "stdout",
       "text": [
        "True\n",
        "True\n"
       ]
      }
     ],
     "prompt_number": 5
    },
    {
     "cell_type": "code",
     "collapsed": false,
     "input": [
      "nz, ny, nx = 2, 2, 2\n",
      "grid = np.zeros((nz, ny, nx))\n",
      "L = 1.\n",
      "dz, dy, dx = L/nz, L/ny, L/nx\n",
      "\n",
      "x_vals = np.array([.5])\n",
      "y_vals = np.array([.5])\n",
      "z_vals = np.array([.5])\n",
      "q_vals = np.ones_like(z_vals)\n",
      "\n",
      "weight_cic(grid, z_vals/dz, y_vals/dy, x_vals/dx, q_vals)\n",
      "expected = np.zeros_like(grid)\n",
      "expected[1,1,1] = 1.\n",
      "print (grid==expected).all()\n",
      "print np.sum(grid)==1.0"
     ],
     "language": "python",
     "metadata": {},
     "outputs": [
      {
       "output_type": "stream",
       "stream": "stdout",
       "text": [
        "True\n",
        "True\n"
       ]
      }
     ],
     "prompt_number": 6
    },
    {
     "cell_type": "code",
     "collapsed": false,
     "input": [
      "nz, ny, nx = 2, 2, 2\n",
      "grid = np.zeros((nz, ny, nx))\n",
      "L = 1.\n",
      "dz, dy, dx = L/nz, L/ny, L/nx\n",
      "\n",
      "x_vals = np.array([.1, .2])\n",
      "y_vals = np.array([.1, .2])\n",
      "z_vals = np.array([.1, .2])\n",
      "q_vals = np.ones_like(z_vals)\n",
      "\n",
      "weight_cic(grid, z_vals/dz, y_vals/dy, x_vals/dx, q_vals)\n",
      "expected = np.zeros_like(grid)\n",
      "expected[0,0,0] = .8**3\n",
      "for z in [0,1]:\n",
      "    for y in [0,1]:\n",
      "        for x in [0,1]:\n",
      "            s = z+y+x\n",
      "            expected[z,y,x] = .8**(3-s)*.2**s \\\n",
      "                            + .6**(3-s)*.4**s\n",
      "            \n",
      "print norm(grid-expected)<10e-10\n",
      "print np.abs(np.sum(grid)-2.0)<10e-10"
     ],
     "language": "python",
     "metadata": {},
     "outputs": [
      {
       "output_type": "stream",
       "stream": "stdout",
       "text": [
        "True\n",
        "True\n"
       ]
      }
     ],
     "prompt_number": 9
    },
    {
     "cell_type": "code",
     "collapsed": false,
     "input": [],
     "language": "python",
     "metadata": {},
     "outputs": []
    }
   ],
   "metadata": {}
  }
 ]
}