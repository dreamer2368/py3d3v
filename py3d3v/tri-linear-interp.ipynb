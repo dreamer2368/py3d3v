{
 "metadata": {
  "name": "",
  "signature": "sha256:29e7a6a2ef01dd9ca1639ffdebeb961b9bfa114a74d9dd8fc950010f4db69076"
 },
 "nbformat": 3,
 "nbformat_minor": 0,
 "worksheets": [
  {
   "cells": [
    {
     "cell_type": "code",
     "collapsed": false,
     "input": [
      "import numpy as np\n",
      "import matplotlib.pyplot as plt\n",
      "%load_ext cythonmagic\n",
      "norm = lambda x: np.max(np.abs(x))"
     ],
     "language": "python",
     "metadata": {},
     "outputs": [],
     "prompt_number": 1
    },
    {
     "cell_type": "code",
     "collapsed": false,
     "input": [
      "from interp import *"
     ],
     "language": "python",
     "metadata": {},
     "outputs": [],
     "prompt_number": 2
    },
    {
     "cell_type": "code",
     "collapsed": false,
     "input": [
      "%%cython\n",
      "import numpy as np\n",
      "cimport numpy as np\n",
      "from libc.math cimport floor, ceil\n",
      "\n",
      "ctypedef np.float64_t DOUBLE\n",
      "\n",
      "cpdef weight_cic(np.ndarray[DOUBLE,ndim=3] grid,\n",
      "                 np.ndarray[DOUBLE,ndim=1] z,\n",
      "                 np.ndarray[DOUBLE,ndim=1] y,\n",
      "                 np.ndarray[DOUBLE,ndim=1] x,\n",
      "                 np.ndarray[DOUBLE,ndim=1] q):\n",
      "    cdef int i\n",
      "    cdef int N = z.shape[0]\n",
      "    pass\n",
      "                      "
     ],
     "language": "python",
     "metadata": {},
     "outputs": [],
     "prompt_number": 5
    },
    {
     "cell_type": "code",
     "collapsed": false,
     "input": [
      "N = 10\n",
      "nz, ny, nx = 10, 20, 30\n",
      "grid = np.zeros((nz, ny, nx))\n",
      "L = 1.\n",
      "dz, dy, dx = L/nz, L/ny, L/nx\n",
      "\n",
      "x_vals = np.array([0., .25, .5, .75, .9])\n",
      "y_vals = np.array([.9, .75, .5, .25, 0.])\n",
      "z_vals = np.array([.1, .2, .3, .4, .5])\n",
      "q_vals = np.ones_like(z_vals)\n",
      "\n",
      "c = weight_cic(grid, z_vals/dz, y_vals/dy, x_vals/dx, q_vals)\n",
      "\n",
      "#print norm(c-expected)<10e-10"
     ],
     "language": "python",
     "metadata": {},
     "outputs": [],
     "prompt_number": 6
    },
    {
     "cell_type": "code",
     "collapsed": false,
     "input": [],
     "language": "python",
     "metadata": {},
     "outputs": []
    }
   ],
   "metadata": {}
  }
 ]
}