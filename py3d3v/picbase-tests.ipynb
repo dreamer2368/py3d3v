{
 "metadata": {
  "name": "",
  "signature": "sha256:74ee23ff364422fc942613f2029335469f2df870101ec7bfcc5e5fd5dd46f554"
 },
 "nbformat": 3,
 "nbformat_minor": 0,
 "worksheets": [
  {
   "cells": [
    {
     "cell_type": "code",
     "collapsed": false,
     "input": [
      "%matplotlib inline"
     ],
     "language": "python",
     "metadata": {},
     "outputs": [],
     "prompt_number": 1
    },
    {
     "cell_type": "code",
     "collapsed": false,
     "input": [
      "import numpy as np\n",
      "import matplotlib.pyplot as plt\n",
      "from tools import *\n",
      "from pic3d3v import *\n",
      "from interp import *\n",
      "from solvers import *\n",
      "norm = lambda x: np.max(np.abs(x))"
     ],
     "language": "python",
     "metadata": {},
     "outputs": [],
     "prompt_number": 2
    },
    {
     "cell_type": "code",
     "collapsed": false,
     "input": [
      "N = 256\n",
      "L = 2*np.pi\n",
      "mode = 1\n",
      "A = .01\n",
      "wp2 = 1.\n",
      "B0 = 0\n",
      "nt = 50\n",
      "dt = .1\n",
      "t_vals = np.linspace(0, dt*nt, nt+1)\n",
      "        \n",
      "nz = ny = 128\n",
      "nx = 256\n",
      "dz, dy, dx = L/nz, L/ny, L/nx\n",
      "V = dz*dy*dx\n",
      "Ez = Ey = Ex = np.zeros((nz, ny, nx))    \n",
      "solver = Poisson3DFFT(nz, dz, ny, dy, nx, dx)"
     ],
     "language": "python",
     "metadata": {},
     "outputs": [],
     "prompt_number": 3
    },
    {
     "cell_type": "code",
     "collapsed": false,
     "input": [
      "x0       = np.linspace(0., L, N+1)[:-1]\n",
      "n0       = N/L\n",
      "k        = mode*2*np.pi/L\n",
      "x1       = A*np.cos(x0*k)\n",
      "init_pos = x0 + x1\n",
      "x0i      = np.linspace(0., L, N+1)[:-1]\n",
      "normalize(init_pos, L)\n",
      "\n",
      "q = wp2/n0\n",
      "m = q\n",
      "\n",
      "z0 = np.ones(N)*x0[N/2]\n",
      "y0 = np.ones(N)*x0[N/2]\n",
      "electron = Species(N, -q, m,   x0=init_pos, z0=z0, y0=y0)\n",
      "ion      = Species(N, +q, -1., x0=x0i,      z0=z0, y0=y0)\n",
      "\n",
      "species = [electron, ion]\n",
      "wp      = np.sqrt(wp2)\n",
      "\n",
      "pic = PIC3DBase(species, (L, L, L), (nz, ny, nx))"
     ],
     "language": "python",
     "metadata": {},
     "outputs": [],
     "prompt_number": 4
    },
    {
     "cell_type": "code",
     "collapsed": false,
     "input": [
      "x0[N/2]"
     ],
     "language": "python",
     "metadata": {},
     "outputs": [
      {
       "metadata": {},
       "output_type": "pyout",
       "prompt_number": 5,
       "text": [
        "3.1415926535897931"
       ]
      }
     ],
     "prompt_number": 5
    },
    {
     "cell_type": "code",
     "collapsed": false,
     "input": [
      "pic = PIC3DPM(species, (L, L, L), (nz, ny, nx))\n",
      "za = np.zeros((nt+1, N)) # x values over time\n",
      "ya = np.zeros((nt+1, N))\n",
      "xa = np.zeros((nt+1, N))\n",
      "# init half step back\n",
      "pic.init_run(dt)\n",
      "za[0,:N] = pic.zp[:N]\n",
      "ya[0,:N] = pic.yp[:N]\n",
      "xa[0,:N] = pic.xp[:N]\n",
      "\n",
      "# main loop\n",
      "for i in range(1, nt+1):\n",
      "    pic.single_step(dt)\n",
      "    za[i,:N] = pic.zp[:N]\n",
      "    ya[i,:N] = pic.yp[:N]\n",
      "    xa[i,:N] = pic.xp[:N]\n"
     ],
     "language": "python",
     "metadata": {},
     "outputs": [],
     "prompt_number": 6
    },
    {
     "cell_type": "code",
     "collapsed": false,
     "input": [
      "# Compare with expected\n",
      "delta_x  = xa-x0\n",
      "expected = np.outer(np.cos(wp*t_vals), delta_x[0,:])\n",
      "print norm(delta_x-expected)\n",
      "plt.plot(delta_x[:,10])\n",
      "plt.plot(expected[:,10])"
     ],
     "language": "python",
     "metadata": {},
     "outputs": [
      {
       "output_type": "stream",
       "stream": "stdout",
       "text": [
        "6.28665799424\n"
       ]
      },
      {
       "metadata": {},
       "output_type": "pyout",
       "prompt_number": 7,
       "text": [
        "[<matplotlib.lines.Line2D at 0x7fd938c3da50>]"
       ]
      },
      {
       "metadata": {},
       "output_type": "display_data",
       "png": "[encoded data removed]",
       "text": [
        "<matplotlib.figure.Figure at 0x7fd938c3d990>"
       ]
      }
     ],
     "prompt_number": 7
    },
    {
     "cell_type": "code",
     "collapsed": false,
     "input": [
      "plt.plot(za[:,10])\n",
      "#plt.plot(ya[:,10])"
     ],
     "language": "python",
     "metadata": {},
     "outputs": [
      {
       "metadata": {},
       "output_type": "pyout",
       "prompt_number": 8,
       "text": [
        "[<matplotlib.lines.Line2D at 0x7fd92e6ae590>]"
       ]
      },
      {
       "metadata": {},
       "output_type": "display_data",
       "png": "[encoded data removed]",
       "text": [
        "<matplotlib.figure.Figure at 0x7fd92e71b950>"
       ]
      }
     ],
     "prompt_number": 8
    },
    {
     "cell_type": "code",
     "collapsed": false,
     "input": [],
     "language": "python",
     "metadata": {},
     "outputs": [],
     "prompt_number": 8
    }
   ],
   "metadata": {}
  }
 ]
}