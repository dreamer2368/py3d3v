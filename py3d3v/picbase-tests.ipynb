{
 "metadata": {
  "name": "",
  "signature": "sha256:9476cdc79e2419bec0d96de0bba23794c112dd3a56a1772560dc137591e29e23"
 },
 "nbformat": 3,
 "nbformat_minor": 0,
 "worksheets": [
  {
   "cells": [
    {
     "cell_type": "code",
     "collapsed": false,
     "input": [
      "%matplotlib inline\n",
      "%load_ext cythonmagic"
     ],
     "language": "python",
     "metadata": {},
     "outputs": [],
     "prompt_number": 1
    },
    {
     "cell_type": "code",
     "collapsed": false,
     "input": [
      "import numpy as np\n",
      "import matplotlib.pyplot as plt\n",
      "from mpl_toolkits.mplot3d import Axes3D\n",
      "from tools import *\n",
      "from pic3d3v import *\n",
      "from interp import *\n",
      "from solvers import *\n",
      "norm = lambda x: np.max(np.abs(x))"
     ],
     "language": "python",
     "metadata": {},
     "outputs": [],
     "prompt_number": 2
    },
    {
     "cell_type": "code",
     "collapsed": false,
     "input": [
      "N = 512\n",
      "L = 2.*np.pi\n",
      "mode = 2\n",
      "A = .01\n",
      "wp2 = 1.\n",
      "B0 = 0\n",
      "nt = 25\n",
      "dt = .1\n",
      "t_vals = np.linspace(0, dt*nt, nt+1)\n",
      "        \n",
      "nz = ny = 128\n",
      "nx = 128\n",
      "dz, dy, dx = L/nz, L/ny, L/nx\n",
      "V = dz*dy*dx\n",
      "Ez = Ey = Ex = np.zeros((nz, ny, nx))    "
     ],
     "language": "python",
     "metadata": {},
     "outputs": [],
     "prompt_number": 3
    },
    {
     "cell_type": "code",
     "collapsed": false,
     "input": [
      "x0       = np.linspace(0., L, N+1)[:-1]\n",
      "n0       = N/L\n",
      "k        = mode*2*np.pi/L\n",
      "x1       = A*np.cos(x0*k)\n",
      "init_pos = x0 + x1\n",
      "x0i      = np.linspace(0., L, N+1)[:-1]\n",
      "normalize(init_pos, L)\n",
      "\n",
      "q = wp2/n0\n",
      "m = q\n",
      "\n",
      "z0 = np.ones(N)*x0[N/2]\n",
      "y0 = np.ones(N)*x0[N/2]\n",
      "electron = Species(N, -q, m,   x0=init_pos, z0=z0, y0=y0)\n",
      "ion      = Species(N, +q, -1., x0=x0i,      z0=z0, y0=y0)\n",
      "\n",
      "#species = [electron, ion]\n",
      "species = [electron]\n",
      "wp      = np.sqrt(wp2)"
     ],
     "language": "python",
     "metadata": {},
     "outputs": [],
     "prompt_number": 4
    },
    {
     "cell_type": "code",
     "collapsed": false,
     "input": [
      "%%cython\n",
      "import numpy as np\n",
      "cimport numpy as np\n",
      "from libc.math cimport floor, ceil\n",
      "cimport cython\n",
      "\n",
      "ctypedef np.float64_t DOUBLE\n",
      "\n",
      "@cython.boundscheck(False)\n",
      "def exact_E_at_points(np.ndarray[DOUBLE,ndim=1] xp, \n",
      "                      np.ndarray[DOUBLE,ndim=1] q, \n",
      "                      double L, int n=4):\n",
      "    \"\"\"Do for +-n images\n",
      "    \"\"\"\n",
      "    cdef int nxp = len(xp)\n",
      "    cdef np.ndarray[DOUBLE,ndim=1] Ep = np.zeros(nxp)\n",
      "    \n",
      "    cdef int i, j, k\n",
      "    cdef double Ei, offset, r, qj\n",
      "    for i in range(nxp):\n",
      "        Ei = 0.\n",
      "        for j in range(nxp):\n",
      "            qj = q[j]\n",
      "            offset = -(n+1)\n",
      "            r      = xp[i]-xp[j]+offset*L\n",
      "            for k in range(2*n+1):\n",
      "                r += L\n",
      "                offset += 1\n",
      "                if (i!=j) or (not (i==j and offset==0)):\n",
      "                    if r==0:\n",
      "                        print i, j, offset\n",
      "                    else:\n",
      "                        Ei += np.sign(r)*qj/(r**2)\n",
      "                        \n",
      "\n",
      "            Ep[i] = Ei\n",
      "\n",
      "    return Ep/(4.*np.pi)"
     ],
     "language": "python",
     "metadata": {},
     "outputs": [],
     "prompt_number": 5
    },
    {
     "cell_type": "code",
     "collapsed": false,
     "input": [
      "pic = PIC3DPM(species, (L, L, L), (nz, ny, nx))\n",
      "pic.init_run(dt)\n",
      "_, _, Ex = pic.calc_E_at_points()\n",
      "\n",
      "Exe = exact_E_at_points(pic.xp, pic.q, L, n=20)"
     ],
     "language": "python",
     "metadata": {},
     "outputs": [],
     "prompt_number": 6
    },
    {
     "cell_type": "code",
     "collapsed": false,
     "input": [
      "plt.plot(Ex)\n",
      "plt.plot(Exe)"
     ],
     "language": "python",
     "metadata": {},
     "outputs": [
      {
       "metadata": {},
       "output_type": "pyout",
       "prompt_number": 7,
       "text": [
        "[<matplotlib.lines.Line2D at 0x7f7abc055150>]"
       ]
      },
      {
       "metadata": {},
       "output_type": "display_data",
       "png": "[encoded data removed]",
       "text": [
        "<matplotlib.figure.Figure at 0x7f7abc055190>"
       ]
      }
     ],
     "prompt_number": 7
    },
    {
     "cell_type": "code",
     "collapsed": false,
     "input": [
      "class PIC3DPMExact(PIC3DPM):\n",
      "    \n",
      "    def calc_E_at_points(self):\n",
      "        Exp = exact_E_at_points(self.xp, self.q, self.Lx, 20)\n",
      "        Ezp = Eyp = np.zeros_like(Exp)\n",
      "        self.Ezp = Ezp\n",
      "        self.Eyp = Eyp\n",
      "        self.Exp = Exp\n",
      "        return (Ezp, Eyp, Exp)"
     ],
     "language": "python",
     "metadata": {},
     "outputs": [],
     "prompt_number": 8
    },
    {
     "cell_type": "code",
     "collapsed": false,
     "input": [
      "pic = PIC3DPM(species, (L, L, L), (nz, ny, nx))\n",
      "xa = np.zeros((nt+1, N))\n",
      "# init half step back\n",
      "pic.init_run(dt)\n",
      "xa[0,:N]  = pic.xp[:N]\n",
      "\n",
      "# main loop\n",
      "for i in range(1, nt+1):\n",
      "    pic.single_step(dt)\n",
      "    xa[i,:N]  = pic.xp[:N]\n"
     ],
     "language": "python",
     "metadata": {},
     "outputs": [],
     "prompt_number": 9
    },
    {
     "cell_type": "code",
     "collapsed": false,
     "input": [
      "i = 10\n",
      "# Compare with expected\n",
      "delta_x  = xa-x0\n",
      "wpe = np.cos(k*dx/2)*wp\n",
      "expected = np.outer(np.cos(wpe*t_vals), delta_x[0,:])\n",
      "print norm(delta_x-expected)\n",
      "plt.plot(delta_x[:,i])\n",
      "plt.plot(expected[:,i])"
     ],
     "language": "python",
     "metadata": {},
     "outputs": [
      {
       "output_type": "stream",
       "stream": "stdout",
       "text": [
        "6.28308339243\n"
       ]
      },
      {
       "metadata": {},
       "output_type": "pyout",
       "prompt_number": 10,
       "text": [
        "[<matplotlib.lines.Line2D at 0x7f7ab7c014d0>]"
       ]
      },
      {
       "metadata": {},
       "output_type": "display_data",
       "png": "[encoded data removed]",
       "text": [
        "<matplotlib.figure.Figure at 0x7f7ab7c01510>"
       ]
      }
     ],
     "prompt_number": 10
    },
    {
     "cell_type": "code",
     "collapsed": false,
     "input": [],
     "language": "python",
     "metadata": {},
     "outputs": [],
     "prompt_number": 10
    }
   ],
   "metadata": {}
  }
 ]
}