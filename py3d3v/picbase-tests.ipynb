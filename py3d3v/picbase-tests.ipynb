{
 "metadata": {
  "name": "",
  "signature": "sha256:b667ed9894f46a226413fa234f1e4e11166dbf28edd2db85703b229da72304e9"
 },
 "nbformat": 3,
 "nbformat_minor": 0,
 "worksheets": [
  {
   "cells": [
    {
     "cell_type": "code",
     "collapsed": false,
     "input": [
      "%matplotlib inline"
     ],
     "language": "python",
     "metadata": {},
     "outputs": [],
     "prompt_number": 1
    },
    {
     "cell_type": "code",
     "collapsed": false,
     "input": [
      "import numpy as np\n",
      "import matplotlib.pyplot as plt\n",
      "from tools import *\n",
      "from pic3d3v import *\n",
      "from interp import *\n",
      "from solvers import *\n",
      "norm = lambda x: np.max(np.abs(x))"
     ],
     "language": "python",
     "metadata": {},
     "outputs": [],
     "prompt_number": 2
    },
    {
     "cell_type": "code",
     "collapsed": false,
     "input": [
      "N = 256\n",
      "L = 2*np.pi\n",
      "mode = 1\n",
      "A = .01\n",
      "wp2 = 1.\n",
      "B0 = 0\n",
      "nt = 100\n",
      "dt = .1\n",
      "t_vals = np.linspace(0, dt*nt, nt+1)\n",
      "        \n",
      "nz = ny = 128\n",
      "nx = 256\n",
      "dz, dy, dx = L/nz, L/ny, L/nx\n",
      "V = dz*dy*dx\n",
      "Ez = Ey = Ex = np.zeros((nz, ny, nx))    \n",
      "solver = Poisson3DFFT(nz, dz, ny, dy, nx, dx)"
     ],
     "language": "python",
     "metadata": {},
     "outputs": [],
     "prompt_number": 3
    },
    {
     "cell_type": "code",
     "collapsed": false,
     "input": [
      "x0       = np.linspace(0., L, N+1)[:-1]\n",
      "n0       = N/L\n",
      "k        = mode*2*np.pi/L\n",
      "x1       = A*np.cos(x0*k)\n",
      "init_pos = x0 + x1\n",
      "x0i      = np.linspace(0., L, N+1)[:-1]\n",
      "normalize(init_pos, L)\n",
      "\n",
      "q = wp2/n0\n",
      "m = q\n",
      "\n",
      "electron = Species(N, -q, m,   x0=init_pos)\n",
      "ion      = Species(N, +q, -1., x0=x0i)\n",
      "\n",
      "species = [electron, ion]\n",
      "wp      = np.sqrt(wp2)\n",
      "\n",
      "pic = PIC3DBase(species, (L, L, L), (nz, ny, nx))"
     ],
     "language": "python",
     "metadata": {},
     "outputs": [],
     "prompt_number": 4
    },
    {
     "cell_type": "code",
     "collapsed": false,
     "input": [
      "pic = PIC3DPM(species, (L, L, L), (nz, ny, nx))\n",
      "za = np.zeros((nt+1, N)) # x values over time\n",
      "ya = np.zeros((nt+1, N))\n",
      "xa = np.zeros((nt+1, N))\n",
      "# init half step back\n",
      "pic.init_run(dt)\n",
      "za[0,:N] = pic.zp[:N]\n",
      "ya[0,:N] = pic.yp[:N]\n",
      "xa[0,:N] = pic.xp[:N]\n",
      "\n",
      "# main loop\n",
      "for i in range(1, nt+1):\n",
      "    pic.single_step(dt)\n",
      "    za[i,:N] = pic.zp[:N]\n",
      "    ya[i,:N] = pic.yp[:N]\n",
      "    xa[i,:N] = pic.xp[:N]\n"
     ],
     "language": "python",
     "metadata": {},
     "outputs": [],
     "prompt_number": 5
    },
    {
     "cell_type": "code",
     "collapsed": false,
     "input": [
      "# Compare with expected\n",
      "delta_x  = xa-x0\n",
      "expected = np.outer(np.cos(wp*t_vals), delta_x[0,:])\n",
      "print norm(delta_x-expected)\n",
      "plt.plot(delta_x[:,10])\n",
      "plt.plot(expected[:,10])"
     ],
     "language": "python",
     "metadata": {},
     "outputs": [
      {
       "output_type": "stream",
       "stream": "stdout",
       "text": [
        "6.29172106391\n"
       ]
      },
      {
       "metadata": {},
       "output_type": "pyout",
       "prompt_number": 6,
       "text": [
        "[<matplotlib.lines.Line2D at 0x7f0e11687890>]"
       ]
      },
      {
       "metadata": {},
       "output_type": "display_data",
       "png": "[encoded data removed]",
       "text": [
        "<matplotlib.figure.Figure at 0x7f0e11687810>"
       ]
      }
     ],
     "prompt_number": 6
    },
    {
     "cell_type": "code",
     "collapsed": false,
     "input": [],
     "language": "python",
     "metadata": {},
     "outputs": [],
     "prompt_number": 6
    }
   ],
   "metadata": {}
  }
 ]
}