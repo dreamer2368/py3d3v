{
 "metadata": {
  "name": "",
  "signature": "sha256:fd691924162a5a61b2f741f9619425ed54ae8c6a7b9cc0c605552752065bd89f"
 },
 "nbformat": 3,
 "nbformat_minor": 0,
 "worksheets": [
  {
   "cells": [
    {
     "cell_type": "code",
     "collapsed": false,
     "input": [
      "%matplotlib inline"
     ],
     "language": "python",
     "metadata": {},
     "outputs": [],
     "prompt_number": 1
    },
    {
     "cell_type": "code",
     "collapsed": false,
     "input": [
      "import numpy as np\n",
      "import matplotlib.pyplot as plt\n",
      "from tools import *\n",
      "from pic3d3v import *\n",
      "from interp import *\n",
      "from solvers import *\n",
      "norm = lambda x: np.max(np.abs(x))"
     ],
     "language": "python",
     "metadata": {},
     "outputs": [],
     "prompt_number": 2
    },
    {
     "cell_type": "code",
     "collapsed": false,
     "input": [
      "N = 256\n",
      "L = 2*np.pi\n",
      "mode = 1\n",
      "A = .01\n",
      "wp2 = 1.\n",
      "B0 = 0\n",
      "nt = 100\n",
      "dt = .1\n",
      "t_vals = np.linspace(0, dt*nt, nt+1)\n",
      "        \n",
      "nz = ny = 128\n",
      "nx = 128\n",
      "dz, dy, dx = L/nz, L/ny, L/nx\n",
      "V = dz*dy*dx\n",
      "Ez = Ey = Ex = np.zeros((nz, ny, nx))    \n",
      "solver = Poisson3DFFT(nz, dz, ny, dy, nx, dx)"
     ],
     "language": "python",
     "metadata": {},
     "outputs": [],
     "prompt_number": 3
    },
    {
     "cell_type": "code",
     "collapsed": false,
     "input": [
      "x0       = np.linspace(0., L, N+1)[:-1]\n",
      "n0       = N/L\n",
      "k        = mode*2*np.pi/L\n",
      "x1       = A*np.cos(x0*k)\n",
      "init_pos = x0 + x1\n",
      "x0i      = np.linspace(0., L, N+1)[:-1]\n",
      "normalize(init_pos, L)\n",
      "\n",
      "q = wp2/n0\n",
      "m = q\n",
      "\n",
      "electron = Species(N, -q, m,   x0=init_pos)\n",
      "ion      = Species(N, +q, -1., x0=x0i)\n",
      "\n",
      "species = [electron, ion]\n",
      "wp      = np.sqrt(wp2)\n",
      "\n",
      "pic = PIC3DBase(species, (L, L, L), (nz, ny, nx))"
     ],
     "language": "python",
     "metadata": {},
     "outputs": [],
     "prompt_number": 4
    },
    {
     "cell_type": "code",
     "collapsed": false,
     "input": [
      "grid = np.zeros((nz, ny, nx))\n",
      "\n",
      "xa = np.zeros((nt+1, N)) # x values over time\n",
      "# init half step back\n",
      "weight_cic(grid, pic.zp/dz, pic.yp/dy, pic.xp/dx, pic.q)\n",
      "grid[:] = solver.solve(grid/V)\n",
      "Ez, Ey, Ex = calc_Ez(grid, dz), calc_Ey(grid, dy), calc_Ex(grid, dx)\n",
      "Ezp = interp_cic(Ez, pic.zp/dz, pic.yp/dy, pic.xp/dx)\n",
      "Eyp = interp_cic(Ey, pic.zp/dz, pic.yp/dy, pic.xp/dx)\n",
      "Exp = interp_cic(Ex, pic.zp/dz, pic.yp/dy, pic.xp/dx)\n",
      "pic.accel(Ezp, Eyp, Exp, -dt/2.)\n",
      "xa[0,:N] = pic.xp[:N]\n",
      "\n",
      "# main loop\n",
      "for i in range(1, nt+1):\n",
      "    weight_cic(grid, pic.zp/dz, pic.yp/dy, pic.xp/dx, pic.q)\n",
      "    grid[:] = solver.solve(grid/V)\n",
      "    Ez, Ey, Ex = calc_Ez(grid, dz), calc_Ey(grid, dy), calc_Ex(grid, dx)\n",
      "    Ezp = interp_cic(Ez, pic.zp/dz, pic.yp/dy, pic.xp/dx)\n",
      "    Eyp = interp_cic(Ey, pic.zp/dz, pic.yp/dy, pic.xp/dx)\n",
      "    Exp = interp_cic(Ex, pic.zp/dz, pic.yp/dy, pic.xp/dx)\n",
      "\n",
      "    pic.accel(Ezp, Eyp, Exp, dt)\n",
      "    pic.move(dt)\n",
      "    xa[i,:N] = pic.xp[:N]"
     ],
     "language": "python",
     "metadata": {},
     "outputs": [],
     "prompt_number": 5
    },
    {
     "cell_type": "code",
     "collapsed": false,
     "input": [
      "# Compare with expected\n",
      "delta_x  = xa-x0\n",
      "expected = np.outer(np.cos(wp*t_vals), delta_x[0,:])\n",
      "\n",
      "print norm(delta_x-expected)"
     ],
     "language": "python",
     "metadata": {},
     "outputs": [
      {
       "output_type": "stream",
       "stream": "stdout",
       "text": [
        "6.28730996242\n"
       ]
      }
     ],
     "prompt_number": 6
    },
    {
     "cell_type": "code",
     "collapsed": false,
     "input": [
      "plt.plot(delta_x[:,10])\n",
      "plt.plot(expected[:,10])"
     ],
     "language": "python",
     "metadata": {},
     "outputs": [
      {
       "metadata": {},
       "output_type": "pyout",
       "prompt_number": 7,
       "text": [
        "[<matplotlib.lines.Line2D at 0x7fa6f9dd6350>]"
       ]
      },
      {
       "metadata": {},
       "output_type": "display_data",
       "png": "[encoded data removed]",
       "text": [
        "<matplotlib.figure.Figure at 0x7fa7285dfcd0>"
       ]
      }
     ],
     "prompt_number": 7
    },
    {
     "cell_type": "code",
     "collapsed": false,
     "input": [
      "class PIC3DPM(PIC3DBase):\n",
      "\n",
      "    def calc_E_at_points(self):\n",
      "        grid = self.grid\n",
      "        zp, yp, xp = self.zp, self.yp, self.xp\n",
      "        dz, dy, dx = self.dz, self.dy, self.dx\n",
      "        \n",
      "        weight_cic(grid, zp/dz, yp/dy, xp/dx, self.q)\n",
      "        grid[:] = self.solver.solve(grid/self.V)\n",
      "        Ez  = calc_Ez(grid, dz) \n",
      "        Ezp = interp_cic(Ez, zp/dz, yp/dy, xp/dx)\n",
      "        Ey  = calc_Ey(grid, dy)\n",
      "        Eyp = interp_cic(Ey, zp/dz, yp/dy, xp/dx)\n",
      "        Ex  = calc_Ex(grid, dy)\n",
      "        Exp = interp_cic(Ex, zp/dz, yp/dy, xp/dx)\n",
      "        \n",
      "        return (Ezp, Eyp, Exp)\n",
      "\n",
      "    def init_run(self, dt):\n",
      "        grid = np.zeros(self.steps)\n",
      "        self.grid = grid\n",
      "        self.solver = Poisson3DFFT(self.nz, self.dz,\n",
      "                                   self.ny, self.dy,\n",
      "                                   self.nx, self.dx)\n",
      "        \n",
      "        Ezp, Eyp, Exp = self.calc_E_at_points()\n",
      "        self.accel(Ezp, Eyp, Exp, -dt/2.)\n",
      "    \n",
      "    def single_step(self, dt):\n",
      "        Ezp, Eyp, Exp = self.calc_E_at_points()\n",
      "        self.accel(Ezp, Eyp, Exp, dt)\n",
      "        self.move(dt)\n",
      "    \n",
      "\n",
      "pic2 = PIC3DPM(species, (L, L, L), (nz, ny, nx))\n",
      "xa2 = np.zeros((nt+1, N)) # x values over time\n",
      "# init half step back\n",
      "pic2.init_run(dt)\n",
      "xa2[0,:N] = pic2.xp[:N]\n",
      "\n",
      "# main loop\n",
      "for i in range(1, nt+1):\n",
      "    pic2.single_step(dt)\n",
      "    xa2[i,:N] = pic2.xp[:N]\n"
     ],
     "language": "python",
     "metadata": {},
     "outputs": [],
     "prompt_number": 8
    },
    {
     "cell_type": "code",
     "collapsed": false,
     "input": [
      "# Compare with expected\n",
      "delta_x  = xa2-x0\n",
      "expected = np.outer(np.cos(wp*t_vals), delta_x[0,:])\n",
      "print norm(delta_x-expected)\n",
      "plt.plot(delta_x[:,10])\n",
      "plt.plot(expected[:,10])"
     ],
     "language": "python",
     "metadata": {},
     "outputs": [
      {
       "output_type": "stream",
       "stream": "stdout",
       "text": [
        "6.28730996242\n"
       ]
      },
      {
       "metadata": {},
       "output_type": "pyout",
       "prompt_number": 9,
       "text": [
        "[<matplotlib.lines.Line2D at 0x7fa6f7986dd0>]"
       ]
      },
      {
       "metadata": {},
       "output_type": "display_data",
       "png": "[encoded data removed]",
       "text": [
        "<matplotlib.figure.Figure at 0x7fa6f7986e10>"
       ]
      }
     ],
     "prompt_number": 9
    },
    {
     "cell_type": "code",
     "collapsed": false,
     "input": [
      "norm(xa2-xa)"
     ],
     "language": "python",
     "metadata": {},
     "outputs": [
      {
       "metadata": {},
       "output_type": "pyout",
       "prompt_number": 10,
       "text": [
        "0.0"
       ]
      }
     ],
     "prompt_number": 10
    },
    {
     "cell_type": "code",
     "collapsed": false,
     "input": [],
     "language": "python",
     "metadata": {},
     "outputs": [],
     "prompt_number": 10
    }
   ],
   "metadata": {}
  }
 ]
}