{
 "metadata": {
  "name": "",
  "signature": "sha256:a0a45daaad3e66d2ad06e3d51624deee0df5f94fa7356b9f9e710c1b1ae1e99a"
 },
 "nbformat": 3,
 "nbformat_minor": 0,
 "worksheets": [
  {
   "cells": [
    {
     "cell_type": "code",
     "collapsed": false,
     "input": [
      "%matplotlib inline\n",
      "%load_ext cythonmagic"
     ],
     "language": "python",
     "metadata": {},
     "outputs": [],
     "prompt_number": 1
    },
    {
     "cell_type": "code",
     "collapsed": false,
     "input": [
      "import numpy as np\n",
      "import time\n",
      "import matplotlib.pyplot as plt\n",
      "from mpl_toolkits.mplot3d import Axes3D\n",
      "from tools import *\n",
      "from pic3d3v import *\n",
      "from interp import *\n",
      "from solvers import *\n",
      "from landau import *\n",
      "from pic1d2v import *\n",
      "from picwave import *\n",
      "norm = lambda x: np.max(np.abs(x))"
     ],
     "language": "python",
     "metadata": {},
     "outputs": [],
     "prompt_number": 2
    },
    {
     "cell_type": "markdown",
     "metadata": {},
     "source": [
      "### $\\omega$ vs. $k$"
     ]
    },
    {
     "cell_type": "code",
     "collapsed": false,
     "input": [
      "ntc = 10\n",
      "nx0 = 64\n",
      "Nx0 = int(nx0*.5)\n",
      "results = []\n",
      "ppc_vals = [.5]\n",
      "\n",
      "for ppc in ppc_vals:\n",
      "    print \"Starting ppc: \", ppc\n",
      "    start = time.clock()\n",
      "    for mode in range(1, 10+1):\n",
      "\n",
      "        solver = (PIC3DP3M, {\"beta\":5, \"rmax\":.5})\n",
      "        \n",
      "        l3d = Landau3D(save_rr=True, nt=ntc, mode=mode,\n",
      "                       grid_dims=(nx0,nx0,nx0),\n",
      "                       part_dims=(Nx0,Nx0,Nx0))\n",
      "        l3d.init_run(solver=solver)\n",
      "        l3d.run()\n",
      "\n",
      "        t_vals = np.linspace(0, l3d.nt*l3d.dt, l3d.nt+1)\n",
      "        wpe = np.cos(l3d.k*l3d.dx/2)*l3d.wp\n",
      "\n",
      "        rr = l3d.rr\n",
      "        omega = np.mean(np.arccos(2*rr[1:ntc+1]/rr[0]-1)/(2*t_vals[1:ntc+1]))\n",
      "\n",
      "        # Get rid of the memory heavy part of l3d\n",
      "        l3d.pic   = None\n",
      "        l3d.wpe   = wpe\n",
      "        l3d.omega = omega\n",
      "        l3d.ppc   = ppc\n",
      "        results.append(l3d)\n",
      "    print \"Done ppc: \", ppc, \" Time: \", time.clock()-start"
     ],
     "language": "python",
     "metadata": {},
     "outputs": [
      {
       "output_type": "stream",
       "stream": "stdout",
       "text": [
        "Starting ppc:  0.5\n",
        "Done ppc: "
       ]
      },
      {
       "output_type": "stream",
       "stream": "stdout",
       "text": [
        " 0.5  Time:  1127.996478\n"
       ]
      }
     ],
     "prompt_number": 3
    },
    {
     "cell_type": "code",
     "collapsed": false,
     "input": [
      "colors = {.5:'b', 1:'g', 2:'r'}\n",
      "rp = [[r for r in results\n",
      "       if r.ppc == ppc]\n",
      "      for ppc in ppc_vals]\n",
      "for ra in rp:\n",
      "    plt.scatter([r.k for r in ra], [r.omega for r in ra],\n",
      "                 label=\"ppc = %.2f\" % (ra[0].ppc,),\n",
      "                 color=colors[ra[0].ppc])\n",
      "plt.scatter([r.k for r in rp[0]], [r.wpe for r in rp[0]],\n",
      "            color='b', marker='d', label=\"Expected $\\omega(k)$\")\n",
      "plt.plot([r.k for r in rp[0]], np.ones(len(rp[0])),\n",
      "          color='b', linestyle='--', label=\"Expected $\\omega$\")\n",
      "plt.title(\"Omega vs $k$\")\n",
      "plt.legend(loc=\"lower left\")\n",
      "plt.xlabel(\"$k$\"); plt.ylabel(\"$\\omega$\");\n",
      "plt.savefig(\"wk_fixed_dx.png\");"
     ],
     "language": "python",
     "metadata": {},
     "outputs": [
      {
       "metadata": {},
       "output_type": "display_data",
       "png": "[encoded data removed]",
       "text": [
        "<matplotlib.figure.Figure at 0x7f475907c910>"
       ]
      }
     ],
     "prompt_number": 4
    },
    {
     "cell_type": "code",
     "collapsed": false,
     "input": [],
     "language": "python",
     "metadata": {},
     "outputs": [],
     "prompt_number": 4
    }
   ],
   "metadata": {}
  }
 ]
}