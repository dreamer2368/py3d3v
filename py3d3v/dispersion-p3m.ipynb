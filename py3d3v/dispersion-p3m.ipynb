{
 "metadata": {
  "name": "",
  "signature": "sha256:b59ae27f1e4ec7832eec35d2b7539ad5cf306c01356411603a5e9b23090d2807"
 },
 "nbformat": 3,
 "nbformat_minor": 0,
 "worksheets": [
  {
   "cells": [
    {
     "cell_type": "code",
     "collapsed": false,
     "input": [
      "%matplotlib inline\n",
      "%load_ext cythonmagic"
     ],
     "language": "python",
     "metadata": {},
     "outputs": [],
     "prompt_number": 1
    },
    {
     "cell_type": "code",
     "collapsed": false,
     "input": [
      "import numpy as np\n",
      "import time\n",
      "import matplotlib.pyplot as plt\n",
      "from mpl_toolkits.mplot3d import Axes3D\n",
      "from tools import *\n",
      "from pic3d3v import *\n",
      "from interp import *\n",
      "from solvers import *\n",
      "from landau import *\n",
      "from pic1d2v import *\n",
      "from picwave import *\n",
      "norm = lambda x: np.max(np.abs(x))"
     ],
     "language": "python",
     "metadata": {},
     "outputs": [],
     "prompt_number": 2
    },
    {
     "cell_type": "markdown",
     "metadata": {},
     "source": [
      "### $\\omega$ vs. $k$"
     ]
    },
    {
     "cell_type": "code",
     "collapsed": false,
     "input": [
      "ntc = 10\n",
      "nx0 = 64\n",
      "results = []\n",
      "ppc_vals = [.5]\n",
      "for ppc in ppc_vals:\n",
      "    print \"Starting ppc: \", ppc\n",
      "    start = time.clock()\n",
      "    for mode in range(1, 4+1):\n",
      "        Nx0 = int(nx0*ppc)\n",
      "        l3d = Landau3D(save_rr=True, nt=ntc, mode=mode,\n",
      "                       grid_dims=(nx0,nx0,nx0),\n",
      "                       part_dims=(Nx0,Nx0,Nx0))\n",
      "        l3d.init_run()\n",
      "        l3d.run()\n",
      "\n",
      "        t_vals = np.linspace(0, l3d.nt*l3d.dt, l3d.nt+1)\n",
      "        wpe = np.cos(l3d.k*l3d.dx/2)*l3d.wp\n",
      "\n",
      "        rr = l3d.rr\n",
      "        omega = np.mean(np.arccos(2*rr[1:ntc+1]/rr[0]-1)/(2*t_vals[1:ntc+1]))\n",
      "\n",
      "        # Get rid of the memory heavy part of l3d\n",
      "        l3d.pic   = None\n",
      "        l3d.wpe   = wpe\n",
      "        l3d.omega = omega\n",
      "        l3d.ppc   = ppc\n",
      "        results.append(l3d)\n",
      "    print \"Done ppc: \", ppc, \" Time: \", time.clock()-start"
     ],
     "language": "python",
     "metadata": {},
     "outputs": [
      {
       "output_type": "stream",
       "stream": "stdout",
       "text": [
        "Starting ppc:  0.5\n",
        "Done ppc: "
       ]
      },
      {
       "output_type": "stream",
       "stream": "stdout",
       "text": [
        " 0.5  Time:  175.677198\n"
       ]
      }
     ],
     "prompt_number": 3
    },
    {
     "cell_type": "code",
     "collapsed": false,
     "input": [
      "colors = {.5:'b', 1:'g', 2:'r'}\n",
      "rp = [[r for r in results\n",
      "       if r.ppc == ppc]\n",
      "      for ppc in ppc_vals]\n",
      "for ra in rp:\n",
      "    plt.scatter([r.k for r in ra], [r.omega for r in ra],\n",
      "                 label=\"ppc = %.2f\" % (ra[0].ppc,),\n",
      "                 color=colors[ra[0].ppc])\n",
      "plt.scatter([r.k for r in rp[0]], [r.wpe for r in rp[0]],\n",
      "            color='b', marker='d', label=\"Expected $\\omega(k)$\")\n",
      "plt.plot([r.k for r in rp[0]], np.ones(len(rp[0])),\n",
      "          color='b', linestyle='--', label=\"Expected $\\omega$\")\n",
      "plt.title(\"Omega vs $k$\")\n",
      "plt.legend(loc=\"upper left\")\n",
      "plt.xlabel(\"$k$\"); plt.ylabel(\"$\\omega$\");\n",
      "plt.savefig(\"wk_fixed_dx.png\");"
     ],
     "language": "python",
     "metadata": {},
     "outputs": [
      {
       "metadata": {},
       "output_type": "display_data",
       "png": "[encoded data removed]",
       "text": [
        "<matplotlib.figure.Figure at 0x7fe6eb9066d0>"
       ]
      }
     ]
    },
    {
     "cell_type": "code",
     "collapsed": false,
     "input": [
      "ntc = 10\n",
      "nx0 = 64\n",
      "results = []\n",
      "ppc_vals = [.5]\n",
      "for ppc in ppc_vals:\n",
      "    print \"Starting ppc: \", ppc\n",
      "    start = time.clock()\n",
      "    for mode in range(1, 4+1):\n",
      "        Nx0 = nx0\n",
      "        nx1 = int(nx0*ppc)\n",
      "        l3d = Landau3D(save_rr=True, nt=ntc, mode=mode,\n",
      "                       grid_dims=(nx1,nx1,nx1),\n",
      "                       part_dims=(Nx0,Nx0,Nx0))\n",
      "        l3d.init_run()\n",
      "        l3d.run()\n",
      "\n",
      "        t_vals = np.linspace(0, l3d.nt*l3d.dt, l3d.nt+1)\n",
      "        wpe = np.cos(l3d.k*l3d.dx/2)*l3d.wp\n",
      "\n",
      "        rr = l3d.rr\n",
      "        omega = np.mean(np.arccos(2*rr[1:ntc+1]/rr[0]-1)/(2*t_vals[1:ntc+1]))\n",
      "\n",
      "        # Get rid of the memory heavy part of l3d\n",
      "        l3d.pic   = None\n",
      "        l3d.wpe   = wpe\n",
      "        l3d.omega = omega\n",
      "        l3d.ppc   = ppc\n",
      "        results.append(l3d)\n",
      "    print \"Done ppc: \", ppc, \" Time: \", time.clock()-start"
     ],
     "language": "python",
     "metadata": {},
     "outputs": []
    },
    {
     "cell_type": "code",
     "collapsed": false,
     "input": [
      "colors = {.5:'b', 1:'g', 2:'r'}\n",
      "rp = [[r for r in results\n",
      "       if r.ppc == ppc]\n",
      "      for ppc in ppc_vals]\n",
      "for ra in rp:\n",
      "    plt.scatter([r.k*r.dx for r in ra], [r.omega for r in ra],\n",
      "                 label=\"ppc = %.2f\" % (1./ra[0].ppc,),\n",
      "                 color=colors[ra[0].ppc])\n",
      "plt.scatter([r.k*r.dx for r in rp[0]], [r.wpe for r in rp[0]],\n",
      "            color='b', marker='d', label=\"Expected $\\omega(k)$\")\n",
      "plt.plot([r.k*r.dx for r in rp[0]], np.ones(len(rp[0])),\n",
      "          color='b', linestyle='--', label=\"Expected $\\omega$\")\n",
      "plt.title(\"Omega vs $k dx$\")\n",
      "plt.legend(loc=\"lower left\")\n",
      "plt.xlabel(\"$k dx$\"); plt.ylabel(\"$\\omega$\");\n",
      "plt.savefig(\"wk_var_dx.png\");"
     ],
     "language": "python",
     "metadata": {},
     "outputs": []
    },
    {
     "cell_type": "markdown",
     "metadata": {},
     "source": [
      "### Compare FFT with points based $\\omega$ calc "
     ]
    },
    {
     "cell_type": "code",
     "collapsed": false,
     "input": [
      "nx  = 64\n",
      "Nx0 = int(nx*.5)\n",
      "l3d = Landau3D(save_rr=True, save_xa=True, nt=100, mode=5,\n",
      "               grid_dims=(nx,nx,nx),\n",
      "               part_dims=(Nx0,Nx0,Nx0))\n",
      "l3d.init_run()\n",
      "l3d.run()\n",
      "\n",
      "t_vals = np.linspace(0, l3d.nt*l3d.dt, l3d.nt+1)\n",
      "wpe = np.cos(l3d.k*l3d.dx/2)*l3d.wp\n",
      "\n",
      "L = l3d.Lx\n",
      "delta_x = np.zeros_like(l3d.xa)\n",
      "delta_x = l3d.xa - l3d.xia\n",
      "delta_x[delta_x>L/2.]  -= L\n",
      "delta_x[delta_x<-L/2.] += L\n",
      "rr = l3d.rr\n",
      "#expected = np.outer(np.cos(t_vals*wpe), delta_x[0,:])\n",
      "omega = np.mean(np.arccos(2*rr[1:ntc+1]/rr[0]-1)/(2*t_vals[1:ntc+1])) \n",
      "\n",
      "dx0  = delta_x[0]\n",
      "inc  = np.abs(dx0)>10e-8\n",
      "wga  = np.arccos(delta_x[1:ntc+1, inc]/delta_x[0,inc])\n",
      "wga  = wga.T/t_vals[1:ntc+1]\n",
      "wgap = np.mean(wga)\n",
      "\n",
      "print wgap, omega, np.cos(l3d.k*l3d.dx/2)*l3d.wp\n",
      "\n",
      "j = 10\n",
      "plt.plot(delta_x[:, j], label=\"Computed\")\n",
      "plt.plot(np.cos(t_vals*wpe)*delta_x[0,j], label=\"Expected\")\n",
      "plt.plot(np.cos(wgap*t_vals)*delta_x[0,j], label=\"Points\")\n",
      "plt.plot(np.cos(omega*t_vals)*delta_x[0,j], label=\"FFT\")\n",
      "plt.xlabel(\"$t$\"); plt.ylabel(\"$\\\\delta x$\");\n",
      "plt.legend(title=\"$\\\\delta x$\", bbox_to_anchor=(1.4,1));"
     ],
     "language": "python",
     "metadata": {},
     "outputs": []
    },
    {
     "cell_type": "code",
     "collapsed": false,
     "input": [
      "expected = np.outer(np.cos(t_vals*wgap), delta_x[0,:])\n",
      "np.max(np.abs(expected - delta_x))"
     ],
     "language": "python",
     "metadata": {},
     "outputs": []
    },
    {
     "cell_type": "code",
     "collapsed": false,
     "input": [
      "expected = np.outer(np.cos(t_vals*omega), delta_x[0,:])\n",
      "np.max(np.abs(expected - delta_x))"
     ],
     "language": "python",
     "metadata": {},
     "outputs": []
    },
    {
     "cell_type": "code",
     "collapsed": false,
     "input": [],
     "language": "python",
     "metadata": {},
     "outputs": []
    }
   ],
   "metadata": {}
  }
 ]
}