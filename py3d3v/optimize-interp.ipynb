{
 "metadata": {
  "name": "",
  "signature": "sha256:92b71d828ed114197d4c579ad492a74a4408555af9bdbc7922bc3b280bbb434b"
 },
 "nbformat": 3,
 "nbformat_minor": 0,
 "worksheets": [
  {
   "cells": [
    {
     "cell_type": "code",
     "collapsed": false,
     "input": [
      "%matplotlib inline\n",
      "%load_ext cythonmagic"
     ],
     "language": "python",
     "metadata": {},
     "outputs": [],
     "prompt_number": 1
    },
    {
     "cell_type": "code",
     "collapsed": false,
     "input": [
      "import numpy as np\n",
      "import matplotlib.pyplot as plt\n",
      "from mpl_toolkits.mplot3d import Axes3D\n",
      "from tools import *\n",
      "from pic3d3v import *\n",
      "import interp\n",
      "from solvers import *\n",
      "norm = lambda x: np.max(np.abs(x))"
     ],
     "language": "python",
     "metadata": {},
     "outputs": [],
     "prompt_number": 2
    },
    {
     "cell_type": "code",
     "collapsed": false,
     "input": [
      "Nx = 128\n",
      "Ny = 128\n",
      "Nz = 128\n",
      "N = Nx*Ny*Nz\n",
      "\n",
      "L = 2.*np.pi\n",
      "mode = 2\n",
      "A = .01\n",
      "wp2 = 1.\n",
      "B0 = 0\n",
      "nt = 50\n",
      "dt = .1\n",
      "t_vals = np.linspace(0, dt*nt, nt+1)\n",
      "        \n",
      "nz = ny = 64\n",
      "nx = 64\n",
      "\n",
      "dz, dy, dx = L/nz, L/ny, L/nx\n",
      "V = dz*dy*dx\n",
      "Ez = Ey = Ex = np.zeros((nz, ny, nx))    \n",
      "n0       = Nx/L\n",
      "k        = mode*2*np.pi/L\n",
      "x0       = np.linspace(0., L, Nx+1)[:-1]\n",
      "x1       = A*np.cos(x0*k)\n",
      "init_pos = x0 + x1\n",
      "x0i      = np.linspace(0., L, Nx+1)[:-1]\n",
      "normalize(init_pos, L)\n",
      "y0  = np.linspace(0., L, Ny+1)[:-1]\n",
      "z0  = np.linspace(0., L, Nz+1)[:-1]\n",
      "z0a = np.zeros(N)\n",
      "y0a = np.zeros(N)\n",
      "x0a = np.zeros(N)\n",
      "ind = 0\n",
      "for iz in range(Nz):\n",
      "    for iy in range(Ny):\n",
      "        for ix in range(Nx):\n",
      "            z0a[ind] = z0[iz]\n",
      "            y0a[ind] = y0[iy]\n",
      "            x0a[ind] = init_pos[ix]\n",
      "            ind += 1\n",
      "\n",
      "q = wp2/n0\n",
      "m = q\n",
      "\n",
      "electron = Species(N, -q, m,   x0=x0a, z0=z0a, y0=y0a)\n",
      "ion      = Species(N, +q, -1., x0=x0i,      z0=z0, y0=y0)\n",
      "\n",
      "#species = [electron, ion]\n",
      "species = [electron]\n",
      "wp      = np.sqrt(wp2)"
     ],
     "language": "python",
     "metadata": {},
     "outputs": [],
     "prompt_number": 3
    },
    {
     "cell_type": "code",
     "collapsed": false,
     "input": [
      "pic = PIC3DPM(species, (L, L, L), (nz, ny, nx))\n",
      "pic.init_run(dt)\n",
      "Ex = pic.Exp\n",
      "plt.plot(Ex[:Nx])"
     ],
     "language": "python",
     "metadata": {},
     "outputs": [
      {
       "metadata": {},
       "output_type": "pyout",
       "prompt_number": 4,
       "text": [
        "[<matplotlib.lines.Line2D at 0x7f7a5ffe4a10>]"
       ]
      },
      {
       "metadata": {},
       "output_type": "display_data",
       "png": "[encoded data removed]",
       "text": [
        "<matplotlib.figure.Figure at 0x7f7a774b9e50>"
       ]
      }
     ],
     "prompt_number": 4
    },
    {
     "cell_type": "code",
     "collapsed": false,
     "input": [
      "zp, yp, xp = pic.zp, pic.yp, pic.xp\n",
      "dz, dy, dx = pic.dz, pic.dy, pic.dx\n",
      "nz, ny, nx = pic.nz, pic.ny, pic.nx\n",
      "q = pic.q \n",
      "\n",
      "# Calculate phi\n",
      "q_grid = np.zeros((nz, ny, nx))\n",
      "weight_cic(q_grid, zp/dz, yp/dy, xp/dx, q)\n",
      "phi = pic.solver.solve(q_grid/pic.V)\n",
      "\n",
      "# Calculate E fields at points\n",
      "Ez  = calc_Ez(phi, dz) \n",
      "Ezp = interp.interp_cic(Ez, zp/dz, yp/dy, xp/dx)\n",
      "Ey  = calc_Ey(phi, dy)\n",
      "Eyp = interp.interp_cic(Ey, zp/dz, yp/dy, xp/dx)\n",
      "Ex  = calc_Ex(phi, dx)\n",
      "Exp = interp.interp_cic(Ex, zp/dz, yp/dy, xp/dx)\n",
      "zps, yps, xps = zp/dz, yp/dy, xp/dx\n",
      "c = np.zeros_like(xps)"
     ],
     "language": "python",
     "metadata": {},
     "outputs": [],
     "prompt_number": 5
    },
    {
     "cell_type": "code",
     "collapsed": false,
     "input": [
      "%%cython\n",
      "import numpy as np\n",
      "cimport numpy as np\n",
      "from libc.math cimport floor, ceil\n",
      "import cython\n",
      "from cython.parallel import prange\n",
      "\n",
      "ctypedef np.float64_t DOUBLE\n",
      "\n",
      "@cython.boundscheck(False)\n",
      "cdef void interp_cic_par(double[:,:,:] vals, \n",
      "                         double[:] z, \n",
      "                         double[:] y,\n",
      "                         double[:] x,\n",
      "                         double[:] c) nogil:\n",
      "    \n",
      "    cdef int i\n",
      "    cdef int N = z.shape[0]\n",
      "    cdef int nz, ny, nx\n",
      "    cdef double xd, yd, zd\n",
      "    cdef double c00, c01, c10, c11\n",
      "    cdef double c0, c1\n",
      "    cdef int x0, x1, y0, y1, z0, z1\n",
      "    cdef double xd1m\n",
      "    nz, ny, nx = vals.shape[0], vals.shape[1], vals.shape[2]\n",
      "    \n",
      "    # Not getting better results with prange\n",
      "    # Revisit once the problem size gets much larger\n",
      "    for i in range(N):\n",
      "        x0, x1 = int(floor(x[i])), int(ceil(x[i])%nx)\n",
      "        y0, y1 = int(floor(y[i])), int(ceil(y[i])%ny)\n",
      "        z0, z1 = int(floor(z[i])), int(ceil(z[i])%nz)\n",
      "        xd, yd, zd = (x[i]-x0), (y[i]-y0), (z[i]-z0)\n",
      "        xd1m = 1.-xd\n",
      "\n",
      "        c00  = vals[z0, y0, x0]*xd1m+vals[z0, y0, x1]*xd\n",
      "        c10  = vals[z0, y1, x0]*xd1m+vals[z0, y1, x1]*xd\n",
      "        c01  = vals[z1, y0, x0]*xd1m+vals[z1, y0, x1]*xd\n",
      "        c11  = vals[z1, y1, x0]*xd1m+vals[z1, y1, x1]*xd\n",
      "\n",
      "        c0   = c00*(1.-yd) + c10*yd\n",
      "        c1   = c01*(1.-yd) + c11*yd\n",
      "\n",
      "        c[i] = c0*(1.-zd) + c1*zd\n",
      "\n",
      "        \n",
      "def interp_cic(vals, z, y, x):\n",
      "    c = np.zeros_like(z)\n",
      "    interp_cic_par(vals, z, y, x, c)\n",
      "    return c"
     ],
     "language": "python",
     "metadata": {},
     "outputs": [],
     "prompt_number": 6
    },
    {
     "cell_type": "code",
     "collapsed": false,
     "input": [
      "%timeit interp_cic(Ex, zps, yps, xps)"
     ],
     "language": "python",
     "metadata": {},
     "outputs": [
      {
       "output_type": "stream",
       "stream": "stdout",
       "text": [
        "10 loops, best of 3: 112 ms per loop\n"
       ]
      }
     ],
     "prompt_number": 7
    },
    {
     "cell_type": "code",
     "collapsed": false,
     "input": [],
     "language": "python",
     "metadata": {},
     "outputs": [],
     "prompt_number": 7
    }
   ],
   "metadata": {}
  }
 ]
}